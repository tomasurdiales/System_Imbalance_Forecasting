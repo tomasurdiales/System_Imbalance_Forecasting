{
 "cells": [
  {
   "attachments": {},
   "cell_type": "markdown",
   "metadata": {},
   "source": [
    "---\n",
    "\n",
    "# Covariate Set Combinations & Tests\n",
    "\n",
    "By: Tomás Urdiales\n",
    "\n",
    "-> Notebook for experimenting with different covariate sets.\n",
    "\n",
    "##### Libraries"
   ]
  },
  {
   "cell_type": "code",
   "execution_count": null,
   "metadata": {},
   "outputs": [],
   "source": [
    "# Change notebook CWD to the project's root, so python can read from src:\n",
    "import os\n",
    "os.chdir(\"..\")"
   ]
  },
  {
   "cell_type": "code",
   "execution_count": 8,
   "metadata": {},
   "outputs": [],
   "source": [
    "import numpy as np\n",
    "import pandas as pd\n",
    "import matplotlib.pyplot as plt\n",
    "\n",
    "from sklearn.model_selection import TimeSeriesSplit\n",
    "\n",
    "from sklearn.linear_model import LinearRegression, Lasso, Ridge\n",
    "\n",
    "from sklearn.metrics import mean_absolute_error, mean_squared_error\n",
    "\n",
    "from src import utils\n",
    "from src.cross_validation import backtesting_CV\n",
    "from src.join_qh_min_data import join_qh_min_data"
   ]
  },
  {
   "attachments": {},
   "cell_type": "markdown",
   "metadata": {},
   "source": [
    "##### Parameters"
   ]
  },
  {
   "cell_type": "code",
   "execution_count": 9,
   "metadata": {},
   "outputs": [],
   "source": [
    "CWD = utils.get_root_dir()\n",
    "\n",
    "# To not use darts plotting style:\n",
    "plt.style.use('default')\n",
    "\n",
    "DPI = 150 # (pixel density for figures)\n",
    "ELIA_ORANGE = (250/256, 115/256, 1/256) # RGB"
   ]
  },
  {
   "attachments": {},
   "cell_type": "markdown",
   "metadata": {},
   "source": [
    "##### Load data"
   ]
  },
  {
   "cell_type": "code",
   "execution_count": 10,
   "metadata": {},
   "outputs": [],
   "source": [
    "qh = utils.load_qh_historical_data().loc[\"2021\":\"2022\"]\n",
    "minute = utils.load_min_historical_data().loc[\"2021\":\"2022\"]\n",
    "ems = utils.load_ems_historical_data().loc[\"2021\":\"2022\"]\n",
    "xb = utils.load_xb_historical_data().loc[\"2021\":\"2022\"]\n",
    "temp = utils.load_temp_historical_data().loc[\"2021\":\"2022\"]\n",
    "\n",
    "# Additional features:\n",
    "minute[\"rolling_15\"] = minute[\"system_imbalance\"].rolling(window=15, center=False).mean()\n",
    "minute[\"rolling_60\"] = minute[\"system_imbalance\"].rolling(window=60, center=False).mean()\n",
    "# Add in XB data:\n",
    "qh = qh.assign(xb_day_ahead = xb[\"xb_day_ahead\"])\n",
    "qh = qh.assign(xb_intraday = xb[\"xb_intraday\"])\n",
    "qh = qh.assign(xb_grand_total = xb[\"xb_grand_total\"])\n",
    "qh = qh.assign(xb_physical_accounting_net_import_mw = xb[\"xb_physical_accounting_net_import_mw\"])\n",
    "# Add in temperature data:\n",
    "qh = qh.assign(temperature = temp[\"temperature\"])\n",
    "# Create temperature gradient with respect to one hour ahead:\n",
    "qh = qh.assign(temperature_diff = -temp[\"temperature\"].diff(-4))"
   ]
  },
  {
   "cell_type": "code",
   "execution_count": 11,
   "metadata": {},
   "outputs": [],
   "source": [
    "def check(a,b):\n",
    "    print(f\"{(1-a/111.98)*100 :.1f}% | {(1-b/148.97)*100 :.1f}% | {a/145.55 :.3f}\")"
   ]
  },
  {
   "cell_type": "code",
   "execution_count": 12,
   "metadata": {},
   "outputs": [],
   "source": [
    "# Model to be used for all tests (it's faster than LinearRegression)\n",
    "from sklearn.linear_model import Ridge\n",
    "\n",
    "model_ridge = Ridge(\n",
    "    alpha=0.5,\n",
    "    tol=1e-4,\n",
    "    max_iter=1000,\n",
    "    solver=\"auto\",\n",
    ")"
   ]
  },
  {
   "attachments": {},
   "cell_type": "markdown",
   "metadata": {},
   "source": [
    "---\n",
    "\n",
    "## Missing entries with legacy covariate set"
   ]
  },
  {
   "cell_type": "code",
   "execution_count": 6,
   "metadata": {},
   "outputs": [],
   "source": [
    "MINUTE = \"all\"\n",
    "\n",
    "qh_parameters = {\n",
    "    \"system_imbalance_cum15\": {\n",
    "        \"lags\": [1]},\n",
    "    \"si_mw\": {\n",
    "        \"lags\": [-1, -2, -3, -4]},\n",
    "    \"load_id_mw\": {\n",
    "        \"lags\": [3, 2, 1, 0, -1, -2, -3, -4]},\n",
    "    \"nrv_rt\": {\n",
    "        \"lags\": [-1, -2, -3, -4]},\n",
    "}\n",
    "\n",
    "minute_parameters = {\n",
    "    \"system_imbalance\": {\n",
    "        \"lags\": [-2, -3]},\n",
    "    \"net_regulation_volume\": {\n",
    "        \"lags\": [-2, -3]},\n",
    "}\n",
    "\n",
    "# Prepare training dataframe:\n",
    "df = join_qh_min_data(\n",
    "    qh_data=qh,\n",
    "    minute_data=minute,\n",
    "    qh_parameters=qh_parameters,\n",
    "    minute_parameters=minute_parameters,\n",
    "    minute=MINUTE,\n",
    ")"
   ]
  },
  {
   "cell_type": "code",
   "execution_count": 7,
   "metadata": {},
   "outputs": [
    {
     "data": {
      "text/plain": [
       "{datetime.date(2021, 1, 1),\n",
       " datetime.date(2021, 1, 26),\n",
       " datetime.date(2021, 5, 27),\n",
       " datetime.date(2021, 7, 22),\n",
       " datetime.date(2021, 9, 17),\n",
       " datetime.date(2021, 10, 31),\n",
       " datetime.date(2022, 3, 22),\n",
       " datetime.date(2022, 4, 26),\n",
       " datetime.date(2022, 9, 22),\n",
       " datetime.date(2022, 10, 30),\n",
       " datetime.date(2022, 12, 31)}"
      ]
     },
     "execution_count": 7,
     "metadata": {},
     "output_type": "execute_result"
    }
   ],
   "source": [
    "set(df.loc[df.isnull().any(axis=1), df.columns[df.isnull().any(axis=0)]].index.date)"
   ]
  },
  {
   "attachments": {},
   "cell_type": "markdown",
   "metadata": {},
   "source": [
    "---\n",
    "\n",
    "## Legacy model benchmark"
   ]
  },
  {
   "cell_type": "code",
   "execution_count": 13,
   "metadata": {},
   "outputs": [
    {
     "name": "stdout",
     "output_type": "stream",
     "text": [
      "MODEL: LinearRegression\n",
      "Time configuration: 91 splits, 4 testing days, 8 training weeks. Total predicted time: 364 days.\n",
      "\n"
     ]
    },
    {
     "name": "stderr",
     "output_type": "stream",
     "text": [
      "100%|██████████| 91/91 [00:13<00:00,  6.91it/s]\n"
     ]
    },
    {
     "name": "stdout",
     "output_type": "stream",
     "text": [
      "\n",
      "Train set average error:\n",
      "MAE: 110.69MW | RMSE: 147.18MW\n",
      "Test set average error:\n",
      "MAE: 111.98MW | RMSE: 148.97MW | MASE: 0.7470 | P90 Error: 236.77MW | Max Error: 1151.7 (2022-09-06 21:15:00+02:00)\n",
      "Time elapsed: 13.27s | Time per split: ~0.15s\n",
      "\n",
      "0.0% | 0.0% | 0.769\n"
     ]
    }
   ],
   "source": [
    "MINUTE = \"all\"\n",
    "\n",
    "qh_parameters = {\n",
    "    \"system_imbalance_cum15\": {\n",
    "        \"lags\": [1]},\n",
    "    \"si_mw\": {\n",
    "        \"lags\": [-1, -2, -3, -4]},\n",
    "    \"load_id_mw\": {\n",
    "        \"lags\": [3, 2, 1, 0, -1, -2, -3, -4]},\n",
    "    \"nrv_rt\": {\n",
    "        \"lags\": [-1, -2, -3, -4]},\n",
    "}\n",
    "\n",
    "minute_parameters = {\n",
    "    \"system_imbalance\": {\n",
    "        \"lags\": [-2, -3]},\n",
    "    \"net_regulation_volume\": {\n",
    "        \"lags\": [-2, -3]},\n",
    "}\n",
    "\n",
    "# Prepare training dataframe:d\n",
    "df = join_qh_min_data(\n",
    "    qh_data=qh,\n",
    "    minute_data=minute,\n",
    "    qh_parameters=qh_parameters,\n",
    "    minute_parameters=minute_parameters,\n",
    "    minute=MINUTE,\n",
    ")\n",
    "TARGET = \"system_imbalance_cum15_from_qh_plus_1\"\n",
    "FEATURES = [feature for feature in df.columns if feature != TARGET]\n",
    "\n",
    "df = df.dropna()\n",
    "\n",
    "# Set up splits and model features:\n",
    "tscv = TimeSeriesSplit(n_splits=52 * 7 // 4, max_train_size=15 * 4 * 24 * 7 * 8, test_size=15 * 4 * 24 * 4, gap=0)\n",
    "\n",
    "# Cross-validation:\n",
    "results_linear = backtesting_CV(model=LinearRegression(),\n",
    "                                data=df,\n",
    "                                time_splits=tscv,\n",
    "                                features=FEATURES,\n",
    "                                target=TARGET,\n",
    "                                progress_bar=True,\n",
    "                                verbose=False\n",
    "                                )\n",
    "\n",
    "check(111.98, 148.97)"
   ]
  },
  {
   "cell_type": "markdown",
   "metadata": {},
   "source": [
    "---\n",
    "\n",
    "## Rolling mean features"
   ]
  },
  {
   "cell_type": "code",
   "execution_count": 26,
   "metadata": {},
   "outputs": [
    {
     "name": "stdout",
     "output_type": "stream",
     "text": [
      "MODEL: Ridge\n",
      "Time configuration: 91 splits, 4 testing days, 8 training weeks. Total predicted time: 364 days.\n",
      "\n"
     ]
    },
    {
     "name": "stderr",
     "output_type": "stream",
     "text": [
      "100%|██████████| 91/91 [00:07<00:00, 11.65it/s]"
     ]
    },
    {
     "name": "stdout",
     "output_type": "stream",
     "text": [
      "\n",
      "Train set average error:\n",
      "MAE: 110.65MW | RMSE: 147.14MW\n",
      "Test set average error:\n",
      "MAE: 111.99MW | RMSE: 149.00MW | MASE: 0.7472 | P90 Error: 236.76MW | Max Error: 1155.8 (2022-09-06 21:15:00+02:00)\n",
      "Time elapsed: 7.87s | Time per split: ~0.09s\n",
      "\n"
     ]
    },
    {
     "name": "stderr",
     "output_type": "stream",
     "text": [
      "\n"
     ]
    }
   ],
   "source": [
    "qh_parameters = {\n",
    "    \"system_imbalance_cum15\": {\n",
    "        \"lags\": [1]},\n",
    "    \"si_mw\": {\n",
    "        \"lags\": [-1, -2, -3, -4]},\n",
    "    \"load_id_mw\": {\n",
    "        \"lags\": [3, 2, 1, 0, -1, -2, -3, -4]},\n",
    "    \"nrv_rt\": {\n",
    "        \"lags\": [-1, -2, -3, -4]},\n",
    "}\n",
    "\n",
    "minute_parameters = {\n",
    "    \"system_imbalance\": {\n",
    "        \"lags\": [-2, -3]},\n",
    "    \"net_regulation_volume\": {\n",
    "        \"lags\": [-2, -3]},\n",
    "    \"rolling_15\": {\n",
    "        \"lags\": [-2]},\n",
    "    \"rolling_60\": {\n",
    "        \"lags\": [-2]},\n",
    "}\n",
    "\n",
    "# Prepare training dataframe:\n",
    "df = join_qh_min_data(\n",
    "    qh_data=qh,\n",
    "    minute_data=minute,\n",
    "    qh_parameters=qh_parameters,\n",
    "    minute_parameters=minute_parameters,\n",
    "    minute=MINUTE,\n",
    "    # ems_data=ems,\n",
    "    # ems_parameters=ems_parameters,\n",
    ")\n",
    "\n",
    "TARGET = \"system_imbalance_cum15_from_qh_plus_1\"\n",
    "FEATURES = [feature for feature in df.columns if feature != TARGET]\n",
    "\n",
    "df = df.dropna()\n",
    "\n",
    "# Set up splits and model features:\n",
    "tscv = TimeSeriesSplit(n_splits=52 * 7 // 4, max_train_size=15 * 4 * 24 * 7 * 8, test_size=15 * 4 * 24 * 4, gap=0)\n",
    "\n",
    "# Cross-validation:\n",
    "results_linear = backtesting_CV(model=model_ridge,\n",
    "                                data=df,\n",
    "                                time_splits=tscv,\n",
    "                                features=FEATURES,\n",
    "                                target=TARGET,\n",
    "                                progress_bar=True,\n",
    "                                use_scaler=True,\n",
    "                                verbose=False)"
   ]
  },
  {
   "cell_type": "markdown",
   "metadata": {},
   "source": [
    "---\n",
    "\n",
    "## Simplest AR set\n",
    "\n",
    "This is the simplest possible model that gets us legacy model level results! This can be considered the baseline to beat.\n",
    "\n",
    "*It's obtained using Lasso on the previous covariate set."
   ]
  },
  {
   "cell_type": "code",
   "execution_count": null,
   "metadata": {},
   "outputs": [
    {
     "name": "stdout",
     "output_type": "stream",
     "text": [
      "MODEL: Ridge\n",
      "Time configuration: 91 splits, 4 testing days, 8 training weeks. Total predicted time: 364 days.\n",
      "\n"
     ]
    },
    {
     "name": "stderr",
     "output_type": "stream",
     "text": [
      "100%|██████████| 91/91 [00:04<00:00, 20.14it/s]\n"
     ]
    },
    {
     "name": "stdout",
     "output_type": "stream",
     "text": [
      "\n",
      "Train set average error:\n",
      "MAE: 110.30MW | RMSE: 146.58MW\n",
      "Test set average error:\n",
      "MAE: 111.14MW | RMSE: 147.83MW | MASE: 0.7414 | P90 Error: 235.31MW | Max Error: 1154.5 (2022-09-06 21:17:00+02:00)\n",
      "Time elapsed: 4.59s | Time per split: ~0.05s\n",
      "\n"
     ]
    }
   ],
   "source": [
    "MINUTE = \"all\"\n",
    "\n",
    "qh_parameters = {\n",
    "    \"system_imbalance_cum15\": {\n",
    "        \"lags\": [1, -1, -2, -3, -5, -95, -671]},\n",
    "}\n",
    "\n",
    "minute_parameters = {\n",
    "    \"system_imbalance\": {\n",
    "        \"lags\": [-2]},\n",
    "}\n",
    "\n",
    "\n",
    "# Prepare training dataframe:\n",
    "df = join_qh_min_data(\n",
    "    qh_data=qh,\n",
    "    minute_data=minute,\n",
    "    qh_parameters=qh_parameters,\n",
    "    minute_parameters=minute_parameters,\n",
    "    minute=MINUTE,\n",
    ")\n",
    "TARGET = \"system_imbalance_cum15_from_qh_plus_1\"\n",
    "FEATURES = [feature for feature in df.columns if feature != TARGET]\n",
    "\n",
    "df = df.dropna()\n",
    "\n",
    "# Set up splits and model features:\n",
    "tscv = TimeSeriesSplit(n_splits=52 * 7 // 4, max_train_size=15 * 4 * 24 * 7 * 8, test_size=15 * 4 * 24 * 4, gap=0)\n",
    "\n",
    "results_linear = backtesting_CV(model=model_ridge,\n",
    "                                data=df,\n",
    "                                time_splits=tscv,\n",
    "                                features=FEATURES,\n",
    "                                target=TARGET,\n",
    "                                progress_bar=True,\n",
    "                                verbose=False)"
   ]
  },
  {
   "attachments": {},
   "cell_type": "markdown",
   "metadata": {},
   "source": [
    "---\n",
    "\n",
    "## Extended AR set\n",
    "\n",
    "*Extended using Lasso AFS"
   ]
  },
  {
   "cell_type": "code",
   "execution_count": 7,
   "metadata": {},
   "outputs": [
    {
     "name": "stdout",
     "output_type": "stream",
     "text": [
      "MODEL: LinearRegression\n",
      "Time configuration: 91 splits, 4 testing days, 20 training weeks. Total predicted time: 364 days.\n",
      "\n"
     ]
    },
    {
     "name": "stderr",
     "output_type": "stream",
     "text": [
      "100%|██████████| 91/91 [00:42<00:00,  2.15it/s]"
     ]
    },
    {
     "name": "stdout",
     "output_type": "stream",
     "text": [
      "\n",
      "Train set average error:\n",
      "MAE: 104.66MW | RMSE: 139.60MW\n",
      "Test set average error:\n",
      "MAE: 107.34MW | RMSE: 143.25MW | MASE: 0.7165 | P90 Error: 227.81MW | Max Error: 1137.8 (2022-09-06 21:17:00+02:00)\n",
      "Time elapsed: 42.48s | Time per split: ~0.47s\n",
      "\n",
      "4.1% | 3.8% | 0.737\n"
     ]
    },
    {
     "name": "stderr",
     "output_type": "stream",
     "text": [
      "\n"
     ]
    }
   ],
   "source": [
    "MINUTE = \"all\"\n",
    "\n",
    "qh_parameters = {\n",
    "    \"system_imbalance_cum15\": {\n",
    "        \"lags\": [1, -1, -2, -3, -4, -5, \n",
    "        -95, -94, -93, -96,\n",
    "        -191, -190, -189, -192,\n",
    "        -287, -286, -285, -288,\n",
    "        -383, -382, -381, -384,\n",
    "        -479, -478, -477, -480,\n",
    "        -575, -574, -573, -576,\n",
    "        -671, -670, -669, -672,\n",
    "        -17, -21, -23]},\n",
    "}\n",
    "\n",
    "minute_parameters = {\n",
    "    \"system_imbalance\": {\n",
    "        \"lags\": [-2, -45, -181, -18, -33, -64, -44, -43, -63]},\n",
    "}\n",
    "\n",
    "# Prepare training dataframe:\n",
    "df = join_qh_min_data(\n",
    "    qh_data=qh,\n",
    "    minute_data=minute,\n",
    "    qh_parameters=qh_parameters,\n",
    "    minute_parameters=minute_parameters,\n",
    "    minute=MINUTE,\n",
    ")\n",
    "TARGET = \"system_imbalance_cum15_from_qh_plus_1\"\n",
    "FEATURES = [feature for feature in df.columns if feature != TARGET]\n",
    "\n",
    "df = df.dropna()\n",
    "\n",
    "# Set up splits and model features:\n",
    "tscv = TimeSeriesSplit(n_splits=52 * 7 // 4, max_train_size=15 * 4 * 24 * 7 * 20, test_size=15 * 4 * 24 * 4, gap=0)\n",
    "\n",
    "results_linear = backtesting_CV(model=LinearRegression(),\n",
    "                                data=df,\n",
    "                                time_splits=tscv,\n",
    "                                features=FEATURES,\n",
    "                                target=TARGET,\n",
    "                                progress_bar=True,\n",
    "                                verbose=False)\n",
    "check(107.34, 143.25)"
   ]
  },
  {
   "attachments": {},
   "cell_type": "markdown",
   "metadata": {},
   "source": [
    "---\n",
    "\n",
    "## AFS Recommended Set"
   ]
  },
  {
   "cell_type": "code",
   "execution_count": 19,
   "metadata": {},
   "outputs": [],
   "source": [
    "MINUTE = \"all\"\n",
    "\n",
    "qh_parameters = {\n",
    "    \"system_imbalance_cum15\": {\n",
    "        \"lags\": [1, -1, -2, -3, -4, -5, \n",
    "        -95, -94, -93, -96,\n",
    "        -191, -190, -189, -192,\n",
    "        -287, -286, -285, -288,\n",
    "        -383, -382, -381, -384,\n",
    "        -479, -478, -477, -480,\n",
    "        -575, -574, -573, -576,\n",
    "        -671, -670, -669, -672,\n",
    "        -17, -21, -23]},\n",
    "\n",
    "    \"total_load_last_mw\": {\n",
    "        \"lags\": [3, 2, 1, 0, -1, -2, -3, -4]},\n",
    "\n",
    "    \"nrv_rt\": {\n",
    "        \"lags\": [-1, -2, -3, -4, -95, -671]},\n",
    "    \"load_rt_mw\": {\n",
    "        \"lags\": [-1, -2, -3, -4, -95, -671]},\n",
    "    \"wind_rt_mw\": {\n",
    "        \"lags\": [-1, -2, -3, -4]},\n",
    "\n",
    "    # \"total_load_forecast_last_p10_mw\": {\n",
    "    #     \"lags\": [-4]},\n",
    "    # \"total_load_forecast_last_p90_mw\": {\n",
    "    #     \"lags\": [-4]},\n",
    "\n",
    "    # \"ppos\":{\n",
    "    #     \"lags\": [-1, -2, -3, -4]},\n",
    "    # \"pneg\":{\n",
    "    #     \"lags\": [-1, -2, -3, -4]},\n",
    "    # \"guv_mw\":{\n",
    "    #     \"lags\": [-1, -2, -3, -4]},\n",
    "    # \"gdv_mw\":{\n",
    "    #     \"lags\": [-1, -2, -3, -4]}\n",
    "}\n",
    "\n",
    "minute_parameters = {\n",
    "    \"system_imbalance\": {\n",
    "        \"lags\": [-2, -3, -4, -45, -181, -18, -33, -64, -44, -43, -63]},\n",
    "\n",
    "    \"net_regulation_volume\": {\n",
    "        \"lags\": [-2, -3, -4]},\n",
    "    \"rolling_15\": {\n",
    "        \"lags\": [-2]},\n",
    "    \"rolling_60\": {\n",
    "        \"lags\": [-2]},\n",
    "}\n",
    "\n",
    "# Prepare training dataframe:\n",
    "df = join_qh_min_data(\n",
    "    qh_data=qh,\n",
    "    minute_data=minute,\n",
    "    qh_parameters=qh_parameters,\n",
    "    minute_parameters=minute_parameters,\n",
    "    minute=MINUTE,\n",
    "    # ems_data=ems,\n",
    "    # ems_parameters=ems_parameters,\n",
    ")\n",
    "TARGET = \"system_imbalance_cum15_from_qh_plus_1\"\n",
    "FEATURES = [feature for feature in df.columns if feature != TARGET]\n",
    "\n",
    "df = df.dropna()\n",
    "\n",
    "# Set up splits and model features:\n",
    "tscv = TimeSeriesSplit(n_splits=52 * 7 // 4, max_train_size=15 * 4 * 24 * 7 * 8, test_size=15 * 4 * 24 * 4, gap=0)"
   ]
  },
  {
   "cell_type": "code",
   "execution_count": 20,
   "metadata": {},
   "outputs": [
    {
     "name": "stdout",
     "output_type": "stream",
     "text": [
      "MODEL: Ridge\n",
      "Time configuration: 91 splits, 4 testing days, 8 training weeks. Total predicted time: 364 days.\n",
      "\n"
     ]
    },
    {
     "name": "stderr",
     "output_type": "stream",
     "text": [
      "100%|██████████| 91/91 [00:34<00:00,  2.60it/s]"
     ]
    },
    {
     "name": "stdout",
     "output_type": "stream",
     "text": [
      "\n",
      "Train set average error:\n",
      "MAE: 105.31MW | RMSE: 140.50MW\n",
      "Test set average error:\n",
      "MAE: 107.28MW | RMSE: 143.47MW | MASE: 0.7156 | P90 Error: 227.44MW | Max Error: 1189.9 (2022-10-05 10:00:00+02:00)\n",
      "Time elapsed: 35.06s | Time per split: ~0.39s\n",
      "\n"
     ]
    },
    {
     "name": "stderr",
     "output_type": "stream",
     "text": [
      "\n"
     ]
    }
   ],
   "source": [
    "# Cross-validation:\n",
    "results_linear = backtesting_CV(model=model_ridge,\n",
    "                                data=df,\n",
    "                                time_splits=tscv,\n",
    "                                features=FEATURES,\n",
    "                                target=TARGET,\n",
    "                                progress_bar=True,\n",
    "                                use_scaler=True,\n",
    "                                verbose=False)"
   ]
  },
  {
   "attachments": {},
   "cell_type": "markdown",
   "metadata": {},
   "source": [
    "---\n",
    "\n",
    "## XB DA-ID data"
   ]
  },
  {
   "cell_type": "code",
   "execution_count": 13,
   "metadata": {},
   "outputs": [],
   "source": [
    "MINUTE = \"all\"\n",
    "\n",
    "qh_parameters = {\n",
    "    \"system_imbalance_cum15\": {\n",
    "        \"lags\": [1, -1, -2, -3, -4, -5, \n",
    "        -95, -94, -93, -96,\n",
    "        -191, -190, -189, -192,\n",
    "        -287, -286, -285, -288,\n",
    "        -383, -382, -381, -384,\n",
    "        -479, -478, -477, -480,\n",
    "        -575, -574, -573, -576,\n",
    "        -671, -670, -669, -672,\n",
    "        -17, -21, -23]},\n",
    "\n",
    "    \"xb_grand_total\": {\n",
    "        \"lags\": [4, 1, 0, -4]},\n",
    "\n",
    "    \"total_load_last_mw\": {\n",
    "        \"lags\": [3, -3]},\n",
    "    \"nrv_rt\": {\n",
    "        \"lags\": [-1, -2, -3, -4]},\n",
    "    \"load_rt_mw\": {\n",
    "        \"lags\": [-3]},\n",
    "    \"wind_rt_mw\": {\n",
    "        \"lags\": [-1, -3]},\n",
    "\n",
    "    \"temperature_diff\": {\n",
    "    \"lags\": [4, 0]},\n",
    "}\n",
    "\n",
    "minute_parameters = {\n",
    "    \"system_imbalance\": {\n",
    "        \"lags\": [-2, -181, -18, -33, -64, -63]},\n",
    "\n",
    "    \"net_regulation_volume\": {\n",
    "        \"lags\": [-2]},\n",
    "}\n",
    "\n",
    "# Prepare training dataframe:\n",
    "df = join_qh_min_data(\n",
    "    qh_data=qh,\n",
    "    minute_data=minute,\n",
    "    qh_parameters=qh_parameters,\n",
    "    minute_parameters=minute_parameters,\n",
    "    minute=MINUTE,\n",
    ")\n",
    "TARGET = \"system_imbalance_cum15_from_qh_plus_1\"\n",
    "FEATURES = [feature for feature in df.columns if feature != TARGET]\n",
    "\n",
    "df = df.dropna()\n",
    "\n",
    "# Prepare training dataframe:\n",
    "df = join_qh_min_data(\n",
    "    qh_data=qh,\n",
    "    minute_data=minute,\n",
    "    qh_parameters=qh_parameters,\n",
    "    minute_parameters=minute_parameters,\n",
    "    minute=MINUTE,\n",
    ")\n",
    "TARGET = \"system_imbalance_cum15_from_qh_plus_1\"\n",
    "FEATURES = [feature for feature in df.columns if feature != TARGET]\n",
    "\n",
    "df = df.dropna()"
   ]
  },
  {
   "cell_type": "code",
   "execution_count": 14,
   "metadata": {},
   "outputs": [
    {
     "name": "stdout",
     "output_type": "stream",
     "text": [
      "MODEL: Ridge\n",
      "Time configuration: 91 splits, 4 testing days, 30 training weeks. Total predicted time: 364 days.\n",
      "\n"
     ]
    },
    {
     "name": "stderr",
     "output_type": "stream",
     "text": [
      "100%|██████████| 91/91 [00:32<00:00,  2.78it/s]\n"
     ]
    },
    {
     "name": "stdout",
     "output_type": "stream",
     "text": [
      "\n",
      "Train set average error:\n",
      "MAE: 98.72MW | RMSE: 130.83MW\n",
      "Test set average error:\n",
      "MAE: 102.50MW | RMSE: 135.92MW | MASE: 0.6841 | P90 Error: 216.38MW | Max Error: 1138.0 (2022-10-05 10:00:00+02:00)\n",
      "Time elapsed: 32.96s | Time per split: ~0.36s\n",
      "\n",
      "8.5% | 8.8%\n"
     ]
    }
   ],
   "source": [
    "# Set up splits and model features:\n",
    "tscv = TimeSeriesSplit(n_splits=52 * 7 // 4, max_train_size=15 * 4 * 24 * 7 * 30, test_size=15* 4 * 24 * 4, gap=0)\n",
    "\n",
    "# Cross-validation:\n",
    "results_linear = backtesting_CV(model=model_ridge,\n",
    "                                data=df,\n",
    "                                time_splits=tscv,\n",
    "                                features=FEATURES,\n",
    "                                target=TARGET,\n",
    "                                progress_bar=True,\n",
    "                                use_scaler=True,\n",
    "                                verbose=False)\n",
    "check(102.5, 135.92)"
   ]
  },
  {
   "cell_type": "markdown",
   "metadata": {},
   "source": [
    "---\n",
    "\n",
    "## Sparse set"
   ]
  },
  {
   "cell_type": "code",
   "execution_count": 16,
   "metadata": {},
   "outputs": [],
   "source": [
    "FEATURES = ['xb_grand_total_from_qh_plus_1', 'xb_grand_total_current_qh',\n",
    "       'system_imbalance_from_minute_minus_2',\n",
    "       'system_imbalance_cum15_from_qh_minus_3',\n",
    "       'total_load_last_mw_from_qh_plus_3',\n",
    "       'total_load_last_mw_from_qh_minus_3',\n",
    "       'xb_grand_total_from_qh_plus_4',\n",
    "       'net_regulation_volume_from_minute_minus_2',\n",
    "       'system_imbalance_cum15_from_qh_minus_95',\n",
    "       'system_imbalance_cum15_from_qh_minus_191',\n",
    "       'system_imbalance_cum15_from_qh_minus_671',\n",
    "       'system_imbalance_cum15_from_qh_minus_287',\n",
    "       'system_imbalance_cum15_from_qh_minus_383',\n",
    "       'xb_grand_total_from_qh_minus_4',\n",
    "       'system_imbalance_cum15_from_qh_minus_96',\n",
    "       'system_imbalance_cum15_from_qh_minus_672',\n",
    "       'nrv_rt_from_qh_minus_1',\n",
    "       'temperature_diff_from_qh_plus_4',\n",
    "       'system_imbalance_cum15_from_qh_minus_192',\n",
    "       'system_imbalance_cum15_from_qh_minus_384',\n",
    "       'nrv_rt_from_qh_minus_3',\n",
    "       'system_imbalance_cum15_from_qh_minus_1',\n",
    "       'system_imbalance_cum15_from_qh_minus_288',\n",
    "       'temperature_diff_current_qh',\n",
    "       'system_imbalance_cum15_from_qh_minus_381']"
   ]
  },
  {
   "cell_type": "code",
   "execution_count": 17,
   "metadata": {},
   "outputs": [
    {
     "name": "stdout",
     "output_type": "stream",
     "text": [
      "MODEL: Ridge\n",
      "Time configuration: 91 splits, 60 testing days, 120 training weeks. Total predicted time: 5460 days.\n",
      "\n"
     ]
    },
    {
     "name": "stderr",
     "output_type": "stream",
     "text": [
      "100%|██████████| 91/91 [00:07<00:00, 12.30it/s]"
     ]
    },
    {
     "name": "stdout",
     "output_type": "stream",
     "text": [
      "\n",
      "Train set average error:\n",
      "MAE: 103.09MW | RMSE: 136.34MW\n",
      "Test set average error:\n",
      "MAE: 104.36MW | RMSE: 138.12MW | MASE: 6.6715 | P90 Error: 219.59MW | Max Error: 1171.2 (2022-10-05 10:00:00+02:00)\n",
      "Time elapsed: 7.46s | Time per split: ~0.08s\n",
      "\n"
     ]
    },
    {
     "name": "stderr",
     "output_type": "stream",
     "text": [
      "\n"
     ]
    }
   ],
   "source": [
    "# Set up splits and model features:\n",
    "tscv = TimeSeriesSplit(n_splits=52 * 7 // 4, max_train_size=15 * 4 * 24 * 7 * 8, test_size=15* 4 * 24 * 4, gap=0)\n",
    "\n",
    "# Cross-validation:\n",
    "results_linear = backtesting_CV(model=model_ridge,\n",
    "                                data=df,\n",
    "                                time_splits=tscv,\n",
    "                                features=FEATURES,\n",
    "                                target=TARGET,\n",
    "                                progress_bar=True,\n",
    "                                use_scaler=True,\n",
    "                                verbose=False)"
   ]
  },
  {
   "cell_type": "markdown",
   "metadata": {},
   "source": [
    "---\n",
    "\n",
    "## EMS Features\n",
    "\n",
    "Test out on the legacy set:"
   ]
  },
  {
   "cell_type": "code",
   "execution_count": null,
   "metadata": {},
   "outputs": [
    {
     "name": "stdout",
     "output_type": "stream",
     "text": [
      "MODEL: Ridge\n",
      "Time configuration: 91 splits, 4 testing days, 8 training weeks. Total predicted time: 364 days.\n",
      "\n"
     ]
    },
    {
     "name": "stderr",
     "output_type": "stream",
     "text": [
      "100%|██████████| 91/91 [00:06<00:00, 13.53it/s]"
     ]
    },
    {
     "name": "stdout",
     "output_type": "stream",
     "text": [
      "\n",
      "Train set average error:\n",
      "MAE: 110.41MW | RMSE: 146.72MW\n",
      "Test set average error:\n",
      "MAE: 111.79MW | RMSE: 148.59MW | MASE: 0.7457 | P90 Error: 236.08MW | Max Error: 1150.7 (2022-09-06 21:16:00+02:00)\n",
      "Time elapsed: 6.79s | Time per split: ~0.07s\n",
      "\n"
     ]
    },
    {
     "name": "stderr",
     "output_type": "stream",
     "text": [
      "\n"
     ]
    }
   ],
   "source": [
    "MINUTE = \"all\"\n",
    "\n",
    "ems_parameters = {\n",
    "    \"elia_sum_prod_mw_cm-value\": {\n",
    "        \"lags\": [-2, -3, -4]},\n",
    "}\n",
    "\n",
    "qh_parameters = {\n",
    "    \"system_imbalance_cum15\": {\n",
    "        \"lags\": [1]},\n",
    "    \"si_mw\": {\n",
    "        \"lags\": [-1, -2, -3, -4]},\n",
    "    \"load_id_mw\": {\n",
    "        \"lags\": [3, 2, 1, 0, -1, -2, -3, -4]},\n",
    "    \"nrv_rt\": {\n",
    "        \"lags\": [-1, -2, -3, -4]},\n",
    "}\n",
    "\n",
    "minute_parameters = {\n",
    "    \"system_imbalance\": {\n",
    "        \"lags\": [-2, -3]},\n",
    "    \"net_regulation_volume\": {\n",
    "        \"lags\": [-2, -3]},\n",
    "}\n",
    "\n",
    "\n",
    "# Prepare training dataframe:\n",
    "df = join_qh_min_data(\n",
    "    qh_data=qh,\n",
    "    minute_data=minute,\n",
    "    qh_parameters=qh_parameters,\n",
    "    minute_parameters=minute_parameters,\n",
    "    minute=MINUTE,\n",
    "    ems_data=ems,\n",
    "    ems_parameters=ems_parameters\n",
    ")\n",
    "TARGET = \"system_imbalance_cum15_from_qh_plus_1\"\n",
    "FEATURES = [feature for feature in df.columns if feature != TARGET]\n",
    "\n",
    "df = df.dropna()\n",
    "\n",
    "# Set up splits and model features:\n",
    "tscv = TimeSeriesSplit(n_splits=52 * 7 // 4, max_train_size=15 * 4 * 24 * 7 * 8, test_size=15 * 4 * 24 * 4, gap=0)\n",
    "\n",
    "# Cross-validation:\n",
    "results_linear = backtesting_CV(model=model_ridge,\n",
    "                                data=df,\n",
    "                                time_splits=tscv,\n",
    "                                features=FEATURES,\n",
    "                                target=TARGET,\n",
    "                                progress_bar=True,\n",
    "                                verbose=False)"
   ]
  },
  {
   "cell_type": "markdown",
   "metadata": {},
   "source": [
    "## Differences in EMS features"
   ]
  },
  {
   "cell_type": "code",
   "execution_count": null,
   "metadata": {},
   "outputs": [
    {
     "name": "stdout",
     "output_type": "stream",
     "text": [
      "MODEL: Ridge\n",
      "Time configuration: 91 splits, 4 testing days, 8 training weeks. Total predicted time: 364 days.\n",
      "\n"
     ]
    },
    {
     "name": "stderr",
     "output_type": "stream",
     "text": [
      "100%|██████████| 91/91 [00:07<00:00, 11.72it/s]"
     ]
    },
    {
     "name": "stdout",
     "output_type": "stream",
     "text": [
      "\n",
      "Train set average error:\n",
      "MAE: 110.42MW | RMSE: 146.72MW\n",
      "Test set average error:\n",
      "MAE: 111.71MW | RMSE: 148.52MW | MASE: 0.7452 | P90 Error: 236.10MW | Max Error: 1149.4 (2022-09-06 21:15:00+02:00)\n",
      "Time elapsed: 7.82s | Time per split: ~0.09s\n",
      "\n"
     ]
    },
    {
     "name": "stderr",
     "output_type": "stream",
     "text": [
      "\n"
     ]
    }
   ],
   "source": [
    "MINUTE = \"all\"\n",
    "\n",
    "ems_parameters = {\n",
    "    \"elia_sum_prod_mw_cm-value-diff\": {\n",
    "        \"lags\": [-2, -3, -4]},\n",
    "}\n",
    "\n",
    "qh_parameters = {\n",
    "    \"system_imbalance_cum15\": {\n",
    "        \"lags\": [1]},\n",
    "    \"si_mw\": {\n",
    "        \"lags\": [-1, -2, -3, -4]},\n",
    "    \"load_id_mw\": {\n",
    "        \"lags\": [3, 2, 1, 0, -1, -2, -3, -4]},\n",
    "    \"nrv_rt\": {\n",
    "        \"lags\": [-1, -2, -3, -4]},\n",
    "}\n",
    "\n",
    "minute_parameters = {\n",
    "    \"system_imbalance\": {\n",
    "        \"lags\": [-2, -3]},\n",
    "    \"net_regulation_volume\": {\n",
    "        \"lags\": [-2, -3]},\n",
    "}\n",
    "\n",
    "\n",
    "# Prepare training dataframe:\n",
    "df = join_qh_min_data(\n",
    "    qh_data=qh,\n",
    "    minute_data=minute,\n",
    "    qh_parameters=qh_parameters,\n",
    "    minute_parameters=minute_parameters,\n",
    "    minute=MINUTE,\n",
    "    ems_data=ems,\n",
    "    ems_parameters=ems_parameters\n",
    ")\n",
    "TARGET = \"system_imbalance_cum15_from_qh_plus_1\"\n",
    "FEATURES = [feature for feature in df.columns if feature != TARGET]\n",
    "\n",
    "df = df.dropna()\n",
    "\n",
    "# Set up splits and model features:\n",
    "tscv = TimeSeriesSplit(n_splits=52 * 7 // 4, max_train_size=15 * 4 * 24 * 7 * 8, test_size=15 * 4 * 24 * 4, gap=0)\n",
    "\n",
    "# Cross-validation:\n",
    "results_linear = backtesting_CV(model=model_ridge,\n",
    "                                data=df,\n",
    "                                time_splits=tscv,\n",
    "                                features=FEATURES,\n",
    "                                target=TARGET,\n",
    "                                progress_bar=True,\n",
    "                                verbose=False)"
   ]
  },
  {
   "attachments": {},
   "cell_type": "markdown",
   "metadata": {},
   "source": [
    "---\n",
    "\n",
    "## Dummy variable encoding"
   ]
  },
  {
   "cell_type": "code",
   "execution_count": 18,
   "metadata": {},
   "outputs": [],
   "source": [
    "# Let's encode hour of day with dummy variables:\n",
    "df = df.assign(hour_of_day=df.index.hour.astype(\"category\"))\n",
    "df = pd.get_dummies(df,\n",
    "    columns=[\"hour_of_day\"],\n",
    "    drop_first=True, prefix=\"hour\", prefix_sep=\"_\")"
   ]
  },
  {
   "cell_type": "code",
   "execution_count": 19,
   "metadata": {},
   "outputs": [
    {
     "name": "stdout",
     "output_type": "stream",
     "text": [
      "MODEL: LinearRegression\n",
      "Time configuration: 91 splits, 4 testing days, 8 training weeks. Total predicted time: 364 days.\n",
      "\n"
     ]
    },
    {
     "name": "stderr",
     "output_type": "stream",
     "text": [
      "100%|██████████| 91/91 [00:31<00:00,  2.87it/s]"
     ]
    },
    {
     "name": "stdout",
     "output_type": "stream",
     "text": [
      "\n",
      "Train set average error:\n",
      "MAE: 106.56MW | RMSE: 142.01MW\n",
      "Test set average error:\n",
      "MAE: 108.55MW | RMSE: 144.94MW | MASE: 0.7242 | P90 Error: 229.25MW | Max Error: 1069.7 (2022-09-06 21:18:00+02:00)\n",
      "Time elapsed: 31.70s | Time per split: ~0.35s\n",
      "\n"
     ]
    },
    {
     "name": "stderr",
     "output_type": "stream",
     "text": [
      "\n"
     ]
    }
   ],
   "source": [
    "# Set up splits and model features:\n",
    "tscv = TimeSeriesSplit(n_splits=52 * 7 // 4, max_train_size=4 * 24 * 7 * 8, test_size=4 * 24 * 4, gap=0)\n",
    "\n",
    "# Cross-validation:\n",
    "results_linear = backtesting_CV(model=LinearRegression(),\n",
    "                                data=df,\n",
    "                                time_splits=tscv,\n",
    "                                features=FEATURES,\n",
    "                                target=TARGET,\n",
    "                                progress_bar=True,\n",
    "                                use_scaler=True,\n",
    "                                verbose=False)"
   ]
  },
  {
   "cell_type": "code",
   "execution_count": 20,
   "metadata": {},
   "outputs": [],
   "source": [
    "bins = pd.IntervalIndex.from_tuples([(0, 14), (15,29), (30,44), (45,59)])\n",
    "\n",
    "# Let's encode hour of day with dummy variables:\n",
    "df = df.assign(qh=pd.cut(df.index.minute, bins).astype(\"category\"))\n",
    "df = pd.get_dummies(df,\n",
    "    columns=[\"qh\"],\n",
    "    drop_first=True, prefix=\"qh\", prefix_sep=\"_\")"
   ]
  },
  {
   "cell_type": "code",
   "execution_count": 21,
   "metadata": {},
   "outputs": [
    {
     "name": "stdout",
     "output_type": "stream",
     "text": [
      "MODEL: LinearRegression\n",
      "Time configuration: 91 splits, 4 testing days, 8 training weeks. Total predicted time: 364 days.\n",
      "\n"
     ]
    },
    {
     "name": "stderr",
     "output_type": "stream",
     "text": [
      "100%|██████████| 91/91 [00:30<00:00,  2.97it/s]"
     ]
    },
    {
     "name": "stdout",
     "output_type": "stream",
     "text": [
      "\n",
      "Train set average error:\n",
      "MAE: 106.56MW | RMSE: 142.01MW\n",
      "Test set average error:\n",
      "MAE: 108.55MW | RMSE: 144.94MW | MASE: 0.7242 | P90 Error: 229.25MW | Max Error: 1069.7 (2022-09-06 21:18:00+02:00)\n",
      "Time elapsed: 30.64s | Time per split: ~0.34s\n",
      "\n"
     ]
    },
    {
     "name": "stderr",
     "output_type": "stream",
     "text": [
      "\n"
     ]
    }
   ],
   "source": [
    "# Set up splits and model features:\n",
    "tscv = TimeSeriesSplit(n_splits=52 * 7 // 4, max_train_size=4 * 24 * 7 * 8, test_size=4 * 24 * 4, gap=0)\n",
    "\n",
    "# Cross-validation:\n",
    "results_linear = backtesting_CV(model=LinearRegression(),\n",
    "                                data=df,\n",
    "                                time_splits=tscv,\n",
    "                                features=FEATURES,\n",
    "                                target=TARGET,\n",
    "                                progress_bar=True,\n",
    "                                use_scaler=True,\n",
    "                                verbose=False)"
   ]
  },
  {
   "cell_type": "markdown",
   "metadata": {},
   "source": [
    "---\n",
    "\n",
    "## Fitting on residuals"
   ]
  },
  {
   "cell_type": "code",
   "execution_count": 22,
   "metadata": {},
   "outputs": [
    {
     "name": "stdout",
     "output_type": "stream",
     "text": [
      "MODEL: LinearRegression\n",
      "Time configuration: 95 splits, 4 testing days, 8 training weeks. Total predicted time: 380 days.\n",
      "\n"
     ]
    },
    {
     "name": "stderr",
     "output_type": "stream",
     "text": [
      "100%|██████████| 95/95 [00:03<00:00, 24.21it/s]"
     ]
    },
    {
     "name": "stdout",
     "output_type": "stream",
     "text": [
      "\n",
      "Train set average error:\n",
      "MAE: 110.86MW | RMSE: 147.17MW\n",
      "Test set average error:\n",
      "MAE: 111.72MW | RMSE: 148.50MW | MASE: 0.7526 | P90 Error: 236.59MW | Max Error: 1111.5 (2022-09-06 21:18:00+02:00)\n",
      "Time elapsed: 3.94s | Time per split: ~0.04s\n",
      "\n"
     ]
    },
    {
     "name": "stderr",
     "output_type": "stream",
     "text": [
      "\n"
     ]
    }
   ],
   "source": [
    "MINUTE = 3\n",
    "qh_parameters = {\n",
    "    \"system_imbalance_cum15\": {\n",
    "        \"lags\": [1, -1, -2, -3, -4, -5, -4*24]},\n",
    "    \"si_mw\": {\n",
    "        \"lags\": [-1, -2, -3, -4, -5, -4*24]},\n",
    "}\n",
    "minute_parameters = {\n",
    "    \"system_imbalance\": {\n",
    "        \"lags\": [0, -1, -2, -3]},\n",
    "}\n",
    "\n",
    "# Prepare training dataframe:\n",
    "df = join_qh_min_data(\n",
    "    qh_data=qh,\n",
    "    minute_data=minute,\n",
    "    qh_parameters=qh_parameters,\n",
    "    minute_parameters=minute_parameters,\n",
    "    minute=MINUTE,\n",
    "    # ems_data=ems,\n",
    "    # ems_parameters=ems_parameters,\n",
    ")\n",
    "TARGET = \"system_imbalance_cum15_from_qh_plus_1\"\n",
    "FEATURES = [feature for feature in df.columns if feature != TARGET]\n",
    "\n",
    "df = df.dropna()\n",
    "\n",
    "# Set up splits and model features:\n",
    "tscv = TimeSeriesSplit(n_splits=52 * 7 // 4 + 4, max_train_size=4 * 24 * 7 * 8, test_size=4 * 24 * 4, gap=0)\n",
    "\n",
    "# Cross-validation:\n",
    "results_linear = backtesting_CV(model=LinearRegression(),\n",
    "                                data=df,\n",
    "                                time_splits=tscv,\n",
    "                                features=FEATURES,\n",
    "                                target=TARGET,\n",
    "                                progress_bar=True,\n",
    "                                verbose=False)\n"
   ]
  },
  {
   "cell_type": "code",
   "execution_count": 23,
   "metadata": {},
   "outputs": [
    {
     "data": {
      "image/png": "[encoded data removed]",
      "text/plain": [
       "<Figure size 640x480 with 1 Axes>"
      ]
     },
     "metadata": {},
     "output_type": "display_data"
    },
    {
     "name": "stderr",
     "output_type": "stream",
     "text": [
      "/opt/homebrew/lib/python3.10/site-packages/statsmodels/graphics/tsaplots.py:348: FutureWarning: The default method 'yw' can produce PACF values outside of the [-1,1] interval. After 0.13, the default will change tounadjusted Yule-Walker ('ywm'). You can use this method now by setting method='ywm'.\n",
      "  warnings.warn(\n"
     ]
    },
    {
     "data": {
      "image/png": "[encoded data removed]",
      "text/plain": [
       "<Figure size 640x480 with 1 Axes>"
      ]
     },
     "metadata": {},
     "output_type": "display_data"
    }
   ],
   "source": [
    "import statsmodels.api as sm\n",
    "from statsmodels.tsa.seasonal import STL\n",
    "\n",
    "fig, ax = plt.subplots()\n",
    "sm.graphics.tsa.plot_acf(results_linear[0][\"y_test\"]-results_linear[0][\"y_pred\"], alpha=.05, lags=4*10,\n",
    "                         ax=ax, title=\"ACF lagging 12h\")\n",
    "plt.ylim([-0.2,1.1])\n",
    "plt.xlabel('Lag [15min]')\n",
    "plt.grid()\n",
    "plt.show()\n",
    "\n",
    "fig, ax = plt.subplots()\n",
    "sm.graphics.tsa.plot_pacf(results_linear[0][\"y_test\"]-results_linear[0][\"y_pred\"], alpha=.05, lags=4*10,\n",
    "                         ax=ax, title=\"PACF lagging 12h\")\n",
    "plt.ylim([-0.2,1.1])\n",
    "plt.xlabel('Lag [15min]')\n",
    "plt.grid()\n",
    "plt.show()"
   ]
  },
  {
   "cell_type": "code",
   "execution_count": 24,
   "metadata": {},
   "outputs": [
    {
     "name": "stdout",
     "output_type": "stream",
     "text": [
      "MODEL: LinearRegression\n",
      "Time configuration: 91 splits, 4 testing days, 2 training weeks. Total predicted time: 364 days.\n",
      "\n",
      "\n",
      "Total MAE: 109.72MW | Total RMSE: 145.27MW\n"
     ]
    }
   ],
   "source": [
    "res = pd.DataFrame({\"res\": results_linear[0][\"y_test\"] - results_linear[0][\"y_pred\"]})\n",
    "res = res.assign(lag1=res.res.shift(1))\n",
    "\n",
    "TARGET = \"res\"\n",
    "FEATURES = [feature for feature in res.columns if feature != TARGET]\n",
    "\n",
    "res = res.dropna()\n",
    "\n",
    "# Set up splits and model features:\n",
    "tscv = TimeSeriesSplit(n_splits=52 * 7 // 4, max_train_size=4 * 24 * 7 * 2, test_size=4 * 24 * 4, gap=0)\n",
    "\n",
    "# Cross-validation:\n",
    "results_res = backtesting_CV(model=LinearRegression(),\n",
    "                             data=res,\n",
    "                             time_splits=tscv,\n",
    "                             features=FEATURES,\n",
    "                             target=TARGET,\n",
    "                             progress_bar=False,\n",
    "                             verbose=False,\n",
    "                             print_error_metrics=False)\n",
    "\n",
    "from sklearn.metrics import mean_absolute_error, mean_squared_error\n",
    "\n",
    "y_pred = results_linear[0][\"y_pred\"].loc[\"2022-01-01 13:08:00+01:00\":\"2022-12-31 23:38:00+01:00\"] + \\\n",
    "    results_res[0][\"y_pred\"].loc[\"2022-01-01 13:08:00+01:00\":\"2022-12-31 23:38:00+01:00\"]\n",
    "\n",
    "y_test = results_linear[0][\"y_test\"].loc[\"2022-01-01 13:08:00+01:00\":\"2022-12-31 23:38:00+01:00\"]\n",
    "\n",
    "total_mae = mean_absolute_error(y_test, y_pred)\n",
    "total_rmse = mean_squared_error(y_test, y_pred, squared=False)\n",
    "print(f\"\\nTotal MAE: {total_mae:.2f}MW | Total RMSE: {total_rmse:.2f}MW\")"
   ]
  },
  {
   "cell_type": "code",
   "execution_count": 25,
   "metadata": {},
   "outputs": [
    {
     "data": {
      "image/png": "[encoded data removed]",
      "text/plain": [
       "<Figure size 640x480 with 1 Axes>"
      ]
     },
     "metadata": {},
     "output_type": "display_data"
    },
    {
     "data": {
      "image/png": "[encoded data removed]",
      "text/plain": [
       "<Figure size 640x480 with 1 Axes>"
      ]
     },
     "metadata": {},
     "output_type": "display_data"
    }
   ],
   "source": [
    "fig, ax = plt.subplots()\n",
    "sm.graphics.tsa.plot_acf(y_test - y_pred, alpha=.05, lags=4*10,\n",
    "                         ax=ax, title=\"ACF lagging 12h\")\n",
    "plt.ylim([-0.2,1.1])\n",
    "plt.xlabel('Lag [15min]')\n",
    "plt.grid()\n",
    "plt.show()\n",
    "\n",
    "fig, ax = plt.subplots()\n",
    "sm.graphics.tsa.plot_pacf(y_test - y_pred, alpha=.05, lags=4*10, method=\"ywm\",\n",
    "                         ax=ax, title=\"PACF lagging 12h\")\n",
    "plt.ylim([-0.2,1.1])\n",
    "plt.xlabel('Lag [15min]')\n",
    "plt.grid()\n",
    "plt.show()"
   ]
  }
 ],
 "metadata": {
  "kernelspec": {
   "display_name": "Python 3",
   "language": "python",
   "name": "python3"
  },
  "language_info": {
   "codemirror_mode": {
    "name": "ipython",
    "version": 3
   },
   "file_extension": ".py",
   "mimetype": "text/x-python",
   "name": "python",
   "nbconvert_exporter": "python",
   "pygments_lexer": "ipython3",
   "version": "3.11.4"
  },
  "orig_nbformat": 4,
  "vscode": {
   "interpreter": {
    "hash": "949777d72b0d2535278d3dc13498b2535136f6dfe0678499012e853ee9abcab1"
   }
  }
 },
 "nbformat": 4,
 "nbformat_minor": 2
}
