{
 "cells": [
  {
   "attachments": {},
   "cell_type": "markdown",
   "metadata": {},
   "source": [
    "---\n",
    "\n",
    "# Modelling R&D\n",
    "\n",
    "By: Tomás Urdiales\n",
    "\n",
    "-> Notebook for modelling experiments.\n",
    "\n",
    "##### Libraries"
   ]
  },
  {
   "cell_type": "code",
   "execution_count": 8,
   "metadata": {},
   "outputs": [],
   "source": [
    "# Change notebook CWD to the project's root, so python can read from src:\n",
    "import os\n",
    "os.chdir(\"..\")"
   ]
  },
  {
   "cell_type": "code",
   "execution_count": 1,
   "metadata": {},
   "outputs": [],
   "source": [
    "import numpy as np\n",
    "import pandas as pd\n",
    "import matplotlib.pyplot as plt\n",
    "\n",
    "from sklearn.model_selection import TimeSeriesSplit\n",
    "from sklearn.preprocessing import RobustScaler\n",
    "from sklearn.linear_model import LinearRegression, Ridge\n",
    "\n",
    "from sklearn.metrics import mean_absolute_error, mean_squared_error\n",
    "\n",
    "from src import utils\n",
    "from src.cross_validation import backtesting_CV\n",
    "from src.join_qh_min_data import join_qh_min_data"
   ]
  },
  {
   "attachments": {},
   "cell_type": "markdown",
   "metadata": {},
   "source": [
    "##### Parameters"
   ]
  },
  {
   "cell_type": "code",
   "execution_count": 2,
   "metadata": {},
   "outputs": [],
   "source": [
    "CWD = utils.get_root_dir()\n",
    "\n",
    "# To not use darts plotting style:\n",
    "plt.style.use('default')\n",
    "\n",
    "DPI = 150 # (pixel density for figures)\n",
    "ELIA_ORANGE = (250/256, 115/256, 1/256) # RGB"
   ]
  },
  {
   "attachments": {},
   "cell_type": "markdown",
   "metadata": {},
   "source": [
    "##### Load data"
   ]
  },
  {
   "cell_type": "code",
   "execution_count": 3,
   "metadata": {},
   "outputs": [],
   "source": [
    "qh = utils.load_qh_historical_data().loc[\"2021\":\"2022\"]\n",
    "minute = utils.load_min_historical_data().loc[\"2021\":\"2022\"]\n",
    "ems = utils.load_ems_historical_data().loc[\"2021\":\"2022\"]\n",
    "xb = utils.load_xb_historical_data().loc[\"2021\":\"2022\"]\n",
    "temp = utils.load_temp_historical_data().loc[\"2021\":\"2022\"]\n",
    "\n",
    "# Additional features:\n",
    "minute[\"rolling_15\"] = minute[\"system_imbalance\"].rolling(window=15, center=False).mean()\n",
    "minute[\"rolling_60\"] = minute[\"system_imbalance\"].rolling(window=60, center=False).mean()\n",
    "# Add in XB data:\n",
    "qh = qh.assign(xb_day_ahead = xb[\"xb_day_ahead\"])\n",
    "qh = qh.assign(xb_intraday = xb[\"xb_intraday\"])\n",
    "qh = qh.assign(xb_grand_total = xb[\"xb_grand_total\"])\n",
    "qh = qh.assign(xb_physical_accounting_net_import_mw = xb[\"xb_physical_accounting_net_import_mw\"])\n",
    "# Add in temperature data:\n",
    "qh = qh.assign(temperature = temp[\"temperature\"])\n",
    "# Create temperature gradient with respect to one hour ahead:\n",
    "qh = qh.assign(temperature_diff = -temp[\"temperature\"].diff(-4))"
   ]
  },
  {
   "cell_type": "code",
   "execution_count": 4,
   "metadata": {},
   "outputs": [],
   "source": [
    "def check(a,b):\n",
    "    print(f\"{(1-a/111.98)*100 :.1f}% | {(1-b/148.97)*100 :.1f}% | {a/145.55 :.3f}\")"
   ]
  },
  {
   "cell_type": "code",
   "execution_count": 5,
   "metadata": {},
   "outputs": [],
   "source": [
    "model_ridge = Ridge(\n",
    "    alpha=0.5,\n",
    "    tol=1e-4,\n",
    "    max_iter=1000,\n",
    "    solver=\"auto\",\n",
    ")"
   ]
  },
  {
   "attachments": {},
   "cell_type": "markdown",
   "metadata": {},
   "source": [
    "---\n",
    "\n",
    "## Legacy model benchmark"
   ]
  },
  {
   "cell_type": "code",
   "execution_count": 8,
   "metadata": {},
   "outputs": [
    {
     "name": "stdout",
     "output_type": "stream",
     "text": [
      "MODEL: LinearRegression\n",
      "Time configuration: 91 splits, 4 testing days, 8 training weeks. Total predicted time: 364 days.\n",
      "\n"
     ]
    },
    {
     "name": "stderr",
     "output_type": "stream",
     "text": [
      "100%|██████████| 91/91 [00:11<00:00,  7.77it/s]\n"
     ]
    },
    {
     "name": "stdout",
     "output_type": "stream",
     "text": [
      "\n",
      "Train set average error:\n",
      "MAE: 110.69MW | RMSE: 147.18MW\n",
      "Test set average error:\n",
      "MAE: 111.98MW | RMSE: 148.97MW | MASE: 0.7470 | P90 Error: 236.77MW | Max Error: 1151.7 (2022-09-06 21:15:00+02:00)\n",
      "Time elapsed: 11.78s | Time per split: ~0.13s\n",
      "\n",
      "0.0% | 0.0% | 0.769\n"
     ]
    }
   ],
   "source": [
    "MINUTE = \"all\"\n",
    "\n",
    "qh_parameters = {\n",
    "    \"system_imbalance_cum15\": {\n",
    "        \"lags\": [1]},\n",
    "    \"si_mw\": {\n",
    "        \"lags\": [-1, -2, -3, -4]},\n",
    "    \"load_id_mw\": {\n",
    "        \"lags\": [3, 2, 1, 0, -1, -2, -3, -4]},\n",
    "    \"nrv_rt\": {\n",
    "        \"lags\": [-1, -2, -3, -4]},\n",
    "}\n",
    "\n",
    "minute_parameters = {\n",
    "    \"system_imbalance\": {\n",
    "        \"lags\": [-2, -3]},\n",
    "    \"net_regulation_volume\": {\n",
    "        \"lags\": [-2, -3]},\n",
    "}\n",
    "\n",
    "# Prepare training dataframe:d\n",
    "df = join_qh_min_data(\n",
    "    qh_data=qh,\n",
    "    minute_data=minute,\n",
    "    qh_parameters=qh_parameters,\n",
    "    minute_parameters=minute_parameters,\n",
    "    minute=MINUTE,\n",
    ")\n",
    "TARGET = \"system_imbalance_cum15_from_qh_plus_1\"\n",
    "FEATURES = [feature for feature in df.columns if feature != TARGET]\n",
    "\n",
    "df = df.dropna()\n",
    "\n",
    "# Set up splits and model features:\n",
    "tscv = TimeSeriesSplit(n_splits=52 * 7 // 4, max_train_size=15 * 4 * 24 * 7 * 8, test_size=15 * 4 * 24 * 4, gap=0)\n",
    "\n",
    "# Cross-validation:\n",
    "results_linear = backtesting_CV(model=LinearRegression(),\n",
    "                                data=df,\n",
    "                                time_splits=tscv,\n",
    "                                features=FEATURES,\n",
    "                                target=TARGET,\n",
    "                                progress_bar=True,\n",
    "                                verbose=False\n",
    "                                )\n",
    "\n",
    "check(111.98, 148.97)"
   ]
  },
  {
   "attachments": {},
   "cell_type": "markdown",
   "metadata": {},
   "source": [
    "---\n",
    "\n",
    "## Naive estimator"
   ]
  },
  {
   "cell_type": "code",
   "execution_count": 35,
   "metadata": {},
   "outputs": [],
   "source": [
    "qh_parameters = {\n",
    "    \"system_imbalance_cum15\": {\n",
    "        \"lags\": [1]},\n",
    "}\n",
    "\n",
    "minute_parameters = {\n",
    "    \"system_imbalance\": {\n",
    "        \"lags\": [-2]},\n",
    "}\n",
    "\n",
    "# Prepare training dataframe:\n",
    "df = join_qh_min_data(\n",
    "    qh_data=qh,\n",
    "    minute_data=minute,\n",
    "    qh_parameters=qh_parameters,\n",
    "    minute_parameters=minute_parameters,\n",
    "    minute=MINUTE,\n",
    ")\n",
    "TARGET = \"system_imbalance_cum15_from_qh_plus_1\"\n",
    "FEATURES = [feature for feature in df.columns if feature != TARGET]\n",
    "\n",
    "df = df.dropna()"
   ]
  },
  {
   "cell_type": "code",
   "execution_count": 36,
   "metadata": {},
   "outputs": [
    {
     "name": "stdout",
     "output_type": "stream",
     "text": [
      "Total MAE: 149.88MW | Total RMSE: 195.53MW\n",
      "-33.8% | -31.3% | 1.030\n"
     ]
    }
   ],
   "source": [
    "TARGET = \"system_imbalance_cum15_from_qh_plus_1\"\n",
    "\n",
    "lag = 2\n",
    "if MINUTE == \"all\":\n",
    "    lag = 15 * lag\n",
    "\n",
    "total_mae = mean_absolute_error(df[TARGET].loc[\"2022\"][lag:], df[TARGET].loc[\"2022\"].shift(lag)[lag:])\n",
    "total_rmse = mean_squared_error(df[TARGET].loc[\"2022\"][lag:], df[TARGET].loc[\"2022\"].shift(lag)[lag:], squared=False)\n",
    "print(f\"Total MAE: {total_mae:.2f}MW | Total RMSE: {total_rmse:.2f}MW\")\n",
    "\n",
    "check(149.88, 195.53)"
   ]
  },
  {
   "cell_type": "code",
   "execution_count": 39,
   "metadata": {},
   "outputs": [
    {
     "name": "stdout",
     "output_type": "stream",
     "text": [
      "Total MAE: 145.55MW | Total RMSE: 191.93MW\n",
      "-30.0% | -28.8% | 1.000\n"
     ]
    }
   ],
   "source": [
    "TARGET = \"system_imbalance_cum15_from_qh_plus_1\"\n",
    "\n",
    "total_mae = mean_absolute_error(df[TARGET].loc[\"2022\"], df[\"system_imbalance_from_minute_minus_2\"].loc[\"2022\"])\n",
    "total_rmse = mean_squared_error(df[TARGET].loc[\"2022\"], df[\"system_imbalance_from_minute_minus_2\"].loc[\"2022\"], squared=False)\n",
    "print(f\"Total MAE: {total_mae:.2f}MW | Total RMSE: {total_rmse:.2f}MW\")\n",
    "\n",
    "check(145.55, 191.93)"
   ]
  },
  {
   "attachments": {},
   "cell_type": "markdown",
   "metadata": {},
   "source": [
    "---\n",
    "\n",
    "## CV (XB set)"
   ]
  },
  {
   "cell_type": "code",
   "execution_count": 35,
   "metadata": {},
   "outputs": [],
   "source": [
    "MINUTE = \"all\"\n",
    "\n",
    "qh_parameters = {\n",
    "    \"system_imbalance_cum15\": {\n",
    "        \"lags\": [1, -1, -2, -3, -4, -5, \n",
    "        -95, -94, -93, -96,\n",
    "        -191, -190, -189, -192,\n",
    "        -287, -286, -285, -288,\n",
    "        -383, -382, -381, -384,\n",
    "        -479, -478, -477, -480,\n",
    "        -575, -574, -573, -576,\n",
    "        -671, -670, -669, -672,\n",
    "        -17, -21, -23]},\n",
    "\n",
    "    \"xb_grand_total\": {\n",
    "        \"lags\": [4, 1, 0, -4]},\n",
    "\n",
    "    \"total_load_last_mw\": {\n",
    "        \"lags\": [3, -3]},\n",
    "    \"nrv_rt\": {\n",
    "        \"lags\": [-1, -2, -3, -4]},\n",
    "    \"load_rt_mw\": {\n",
    "        \"lags\": [-3]},\n",
    "    \"wind_rt_mw\": {\n",
    "        \"lags\": [-1, -3]},\n",
    "\n",
    "    \"temperature_diff\": {\n",
    "    \"lags\": [4, 0]},\n",
    "}\n",
    "\n",
    "minute_parameters = {\n",
    "    \"system_imbalance\": {\n",
    "        \"lags\": [-2, -181, -18, -33, -64, -63]},\n",
    "\n",
    "    \"net_regulation_volume\": {\n",
    "        \"lags\": [-2]},\n",
    "}\n",
    "\n",
    "# Prepare training dataframe:\n",
    "df = join_qh_min_data(\n",
    "    qh_data=qh,\n",
    "    minute_data=minute,\n",
    "    qh_parameters=qh_parameters,\n",
    "    minute_parameters=minute_parameters,\n",
    "    minute=MINUTE,\n",
    ")\n",
    "TARGET = \"system_imbalance_cum15_from_qh_plus_1\"\n",
    "FEATURES = [feature for feature in df.columns if feature != TARGET]\n",
    "\n",
    "df = df.dropna()\n",
    "\n",
    "# Set up splits and model features:\n",
    "tscv = TimeSeriesSplit(\n",
    "    n_splits=52 * 7 // 4,\n",
    "    max_train_size=15 * 4 * 24 * 7 * 30,\n",
    "    test_size=15 * 4 * 24 * 4,\n",
    "    gap=0\n",
    ")"
   ]
  },
  {
   "cell_type": "code",
   "execution_count": 37,
   "metadata": {},
   "outputs": [
    {
     "name": "stdout",
     "output_type": "stream",
     "text": [
      "MODEL: Ridge\n",
      "Time configuration: 91 splits, 4 testing days, 30 training weeks. Total predicted time: 364 days.\n",
      "\n"
     ]
    },
    {
     "name": "stderr",
     "output_type": "stream",
     "text": [
      "100%|██████████| 91/91 [00:37<00:00,  2.42it/s]\n"
     ]
    },
    {
     "name": "stdout",
     "output_type": "stream",
     "text": [
      "\n",
      "Train set average error:\n",
      "MAE: 98.72MW | RMSE: 130.83MW\n",
      "Test set average error:\n",
      "MAE: 102.50MW | RMSE: 135.92MW | MASE: 0.6841 | P90 Error: 216.38MW | Max Error: 1138.0 (2022-10-05 10:00:00+02:00)\n",
      "Time elapsed: 37.79s | Time per split: ~0.42s\n",
      "\n",
      "8.5% | 8.8% | 0.704\n"
     ]
    }
   ],
   "source": [
    "from sklearn.linear_model import Ridge\n",
    "\n",
    "model_ridge = Ridge(\n",
    "    alpha=0.5,\n",
    "    tol=1e-4,\n",
    "    max_iter=1000,\n",
    "    solver=\"auto\",\n",
    ")\n",
    "\n",
    "# Cross-validation:\n",
    "results_linear = backtesting_CV(model=model_ridge,\n",
    "                                data=df,\n",
    "                                time_splits=tscv,\n",
    "                                features=FEATURES,\n",
    "                                target=TARGET,\n",
    "                                progress_bar=True,\n",
    "                                use_scaler=True,\n",
    "                                verbose=False)\n",
    "check(102.50, 135.92)"
   ]
  },
  {
   "cell_type": "markdown",
   "metadata": {},
   "source": [
    "## Encoding dummy variables"
   ]
  },
  {
   "cell_type": "code",
   "execution_count": 11,
   "metadata": {},
   "outputs": [],
   "source": [
    "# Let's encode the minute of qh with dummy variables:\n",
    "df = df.assign(minute_of_qh=(df.index.minute % 15).astype(\"category\"))\n",
    "df = pd.get_dummies(df,\n",
    "    columns=[\"minute_of_qh\"],\n",
    "    drop_first=True,\n",
    "    prefix=\"min\", prefix_sep=\"_\")"
   ]
  },
  {
   "cell_type": "code",
   "execution_count": 24,
   "metadata": {},
   "outputs": [],
   "source": [
    "from sklearn.neural_network import MLPRegressor\n",
    "\n",
    "tscv = TimeSeriesSplit(\n",
    "    n_splits=52 // 2 // 2, max_train_size=15 * 4 * 24 * 7 * 70, test_size=15 * 4 * 24 * 7 * 4, gap=0\n",
    ")\n",
    "\n",
    "model_mlp = MLPRegressor(\n",
    "    hidden_layer_sizes=[12, 12],\n",
    "    alpha=0.15,\n",
    "    tol=1e-3,\n",
    "    shuffle=True,\n",
    "    activation=\"relu\",\n",
    "    solver=\"lbfgs\",\n",
    "    max_iter=400,\n",
    "    early_stopping=True,\n",
    "    n_iter_no_change=5,\n",
    "    momentum=True,\n",
    "    verbose=False,\n",
    ")\n",
    "\n",
    "# Cross-validation:\n",
    "results_mlp = backtesting_CV(\n",
    "    model=model_mlp,\n",
    "    data=df,\n",
    "    time_splits=tscv,\n",
    "    use_scaler=True,\n",
    "    features=FEATURES,\n",
    "    target=TARGET,\n",
    "    progress_bar=True,\n",
    "    verbose=False,\n",
    ")\n",
    "\n",
    "check(100.75, 133.45)"
   ]
  },
  {
   "attachments": {},
   "cell_type": "markdown",
   "metadata": {},
   "source": [
    "---\n",
    "\n",
    "## qh-minute errors"
   ]
  },
  {
   "cell_type": "code",
   "execution_count": 8,
   "metadata": {},
   "outputs": [],
   "source": [
    "def show_error_per_minute(df):\n",
    "    df = df.copy().assign(minute_of_qh=(df.index.minute % 15).astype(\"category\"))\n",
    "    metrics_per_minute = np.array([]).reshape(0,3)\n",
    "\n",
    "    for minute in (df.index.minute % 15).unique():\n",
    "        df_minute = df.loc[df[\"minute_of_qh\"] == minute]\n",
    "        total_mae = mean_absolute_error(df_minute[\"y_pred\"], df_minute[\"y_test\"])\n",
    "        total_rmse = mean_squared_error(df_minute[\"y_pred\"], df_minute[\"y_test\"], squared=False)\n",
    "\n",
    "        metrics_per_minute = np.vstack([metrics_per_minute, np.array([minute, total_mae, total_rmse])])\n",
    "    \n",
    "    # Turn into a dataframe:\n",
    "    metrics_per_minute = pd.DataFrame(metrics_per_minute, columns=[\"minute_of_qh\", \"MAE\", \"RMSE\"]) \\\n",
    "        .set_index(\"minute_of_qh\").sort_index()\n",
    "\n",
    "    # And plot:\n",
    "    metrics_per_minute.plot(kind=\"bar\")\n",
    "    plt.ylim(0, 155)\n",
    "    plt.xlabel(\"Minute of qh\"); plt.ylabel(\"Error [MW]\")\n",
    "    plt.xticks(range(15), labels=[str(ii) for ii in range(15)], rotation=0)\n",
    "    # plt.grid()\n",
    "    plt.show()\n",
    "    return metrics_per_minute"
   ]
  },
  {
   "cell_type": "code",
   "execution_count": 9,
   "metadata": {},
   "outputs": [
    {
     "data": {
      "image/png": "[encoded data removed]",
      "text/plain": [
       "<Figure size 640x480 with 1 Axes>"
      ]
     },
     "metadata": {},
     "output_type": "display_data"
    },
    {
     "data": {
      "text/html": [
       "<div>\n",
       "<style scoped>\n",
       "    .dataframe tbody tr th:only-of-type {\n",
       "        vertical-align: middle;\n",
       "    }\n",
       "\n",
       "    .dataframe tbody tr th {\n",
       "        vertical-align: top;\n",
       "    }\n",
       "\n",
       "    .dataframe thead th {\n",
       "        text-align: right;\n",
       "    }\n",
       "</style>\n",
       "<table border=\"1\" class=\"dataframe\">\n",
       "  <thead>\n",
       "    <tr style=\"text-align: right;\">\n",
       "      <th></th>\n",
       "      <th>MAE</th>\n",
       "      <th>RMSE</th>\n",
       "    </tr>\n",
       "    <tr>\n",
       "      <th>minute_of_qh</th>\n",
       "      <th></th>\n",
       "      <th></th>\n",
       "    </tr>\n",
       "  </thead>\n",
       "  <tbody>\n",
       "    <tr>\n",
       "      <th>0.0</th>\n",
       "      <td>120.590721</td>\n",
       "      <td>159.665970</td>\n",
       "    </tr>\n",
       "    <tr>\n",
       "      <th>1.0</th>\n",
       "      <td>119.904076</td>\n",
       "      <td>158.845764</td>\n",
       "    </tr>\n",
       "    <tr>\n",
       "      <th>2.0</th>\n",
       "      <td>117.674217</td>\n",
       "      <td>156.116074</td>\n",
       "    </tr>\n",
       "    <tr>\n",
       "      <th>3.0</th>\n",
       "      <td>114.928085</td>\n",
       "      <td>152.488953</td>\n",
       "    </tr>\n",
       "    <tr>\n",
       "      <th>4.0</th>\n",
       "      <td>113.844009</td>\n",
       "      <td>151.067993</td>\n",
       "    </tr>\n",
       "    <tr>\n",
       "      <th>5.0</th>\n",
       "      <td>112.867760</td>\n",
       "      <td>149.877136</td>\n",
       "    </tr>\n",
       "    <tr>\n",
       "      <th>6.0</th>\n",
       "      <td>111.962463</td>\n",
       "      <td>148.752136</td>\n",
       "    </tr>\n",
       "    <tr>\n",
       "      <th>7.0</th>\n",
       "      <td>111.170074</td>\n",
       "      <td>147.784546</td>\n",
       "    </tr>\n",
       "    <tr>\n",
       "      <th>8.0</th>\n",
       "      <td>110.356140</td>\n",
       "      <td>146.791885</td>\n",
       "    </tr>\n",
       "    <tr>\n",
       "      <th>9.0</th>\n",
       "      <td>109.601746</td>\n",
       "      <td>145.879837</td>\n",
       "    </tr>\n",
       "    <tr>\n",
       "      <th>10.0</th>\n",
       "      <td>108.908531</td>\n",
       "      <td>145.016357</td>\n",
       "    </tr>\n",
       "    <tr>\n",
       "      <th>11.0</th>\n",
       "      <td>108.190811</td>\n",
       "      <td>144.166794</td>\n",
       "    </tr>\n",
       "    <tr>\n",
       "      <th>12.0</th>\n",
       "      <td>107.427528</td>\n",
       "      <td>143.230469</td>\n",
       "    </tr>\n",
       "    <tr>\n",
       "      <th>13.0</th>\n",
       "      <td>106.607773</td>\n",
       "      <td>142.196121</td>\n",
       "    </tr>\n",
       "    <tr>\n",
       "      <th>14.0</th>\n",
       "      <td>105.738060</td>\n",
       "      <td>141.089615</td>\n",
       "    </tr>\n",
       "  </tbody>\n",
       "</table>\n",
       "</div>"
      ],
      "text/plain": [
       "                     MAE        RMSE\n",
       "minute_of_qh                        \n",
       "0.0           120.590721  159.665970\n",
       "1.0           119.904076  158.845764\n",
       "2.0           117.674217  156.116074\n",
       "3.0           114.928085  152.488953\n",
       "4.0           113.844009  151.067993\n",
       "5.0           112.867760  149.877136\n",
       "6.0           111.962463  148.752136\n",
       "7.0           111.170074  147.784546\n",
       "8.0           110.356140  146.791885\n",
       "9.0           109.601746  145.879837\n",
       "10.0          108.908531  145.016357\n",
       "11.0          108.190811  144.166794\n",
       "12.0          107.427528  143.230469\n",
       "13.0          106.607773  142.196121\n",
       "14.0          105.738060  141.089615"
      ]
     },
     "execution_count": 9,
     "metadata": {},
     "output_type": "execute_result"
    }
   ],
   "source": [
    "show_error_per_minute(results_linear[0])"
   ]
  },
  {
   "cell_type": "code",
   "execution_count": 17,
   "metadata": {},
   "outputs": [
    {
     "data": {
      "image/png": "[encoded data removed]",
      "text/plain": [
       "<Figure size 640x480 with 1 Axes>"
      ]
     },
     "metadata": {},
     "output_type": "display_data"
    },
    {
     "data": {
      "text/html": [
       "<div>\n",
       "<style scoped>\n",
       "    .dataframe tbody tr th:only-of-type {\n",
       "        vertical-align: middle;\n",
       "    }\n",
       "\n",
       "    .dataframe tbody tr th {\n",
       "        vertical-align: top;\n",
       "    }\n",
       "\n",
       "    .dataframe thead th {\n",
       "        text-align: right;\n",
       "    }\n",
       "</style>\n",
       "<table border=\"1\" class=\"dataframe\">\n",
       "  <thead>\n",
       "    <tr style=\"text-align: right;\">\n",
       "      <th></th>\n",
       "      <th>MAE</th>\n",
       "      <th>RMSE</th>\n",
       "    </tr>\n",
       "    <tr>\n",
       "      <th>minute_of_qh</th>\n",
       "      <th></th>\n",
       "      <th></th>\n",
       "    </tr>\n",
       "  </thead>\n",
       "  <tbody>\n",
       "    <tr>\n",
       "      <th>0.0</th>\n",
       "      <td>106.137192</td>\n",
       "      <td>141.060532</td>\n",
       "    </tr>\n",
       "    <tr>\n",
       "      <th>1.0</th>\n",
       "      <td>108.382637</td>\n",
       "      <td>144.403214</td>\n",
       "    </tr>\n",
       "    <tr>\n",
       "      <th>2.0</th>\n",
       "      <td>105.419220</td>\n",
       "      <td>140.108643</td>\n",
       "    </tr>\n",
       "    <tr>\n",
       "      <th>3.0</th>\n",
       "      <td>104.728371</td>\n",
       "      <td>139.033112</td>\n",
       "    </tr>\n",
       "    <tr>\n",
       "      <th>4.0</th>\n",
       "      <td>103.982903</td>\n",
       "      <td>137.961655</td>\n",
       "    </tr>\n",
       "    <tr>\n",
       "      <th>5.0</th>\n",
       "      <td>103.227036</td>\n",
       "      <td>136.904419</td>\n",
       "    </tr>\n",
       "    <tr>\n",
       "      <th>6.0</th>\n",
       "      <td>102.455048</td>\n",
       "      <td>135.786713</td>\n",
       "    </tr>\n",
       "    <tr>\n",
       "      <th>7.0</th>\n",
       "      <td>101.707588</td>\n",
       "      <td>134.706482</td>\n",
       "    </tr>\n",
       "    <tr>\n",
       "      <th>8.0</th>\n",
       "      <td>100.861298</td>\n",
       "      <td>133.469452</td>\n",
       "    </tr>\n",
       "    <tr>\n",
       "      <th>9.0</th>\n",
       "      <td>99.987984</td>\n",
       "      <td>132.263809</td>\n",
       "    </tr>\n",
       "    <tr>\n",
       "      <th>10.0</th>\n",
       "      <td>99.074638</td>\n",
       "      <td>130.972916</td>\n",
       "    </tr>\n",
       "    <tr>\n",
       "      <th>11.0</th>\n",
       "      <td>98.095154</td>\n",
       "      <td>129.617493</td>\n",
       "    </tr>\n",
       "    <tr>\n",
       "      <th>12.0</th>\n",
       "      <td>97.023209</td>\n",
       "      <td>128.133575</td>\n",
       "    </tr>\n",
       "    <tr>\n",
       "      <th>13.0</th>\n",
       "      <td>95.855759</td>\n",
       "      <td>126.551323</td>\n",
       "    </tr>\n",
       "    <tr>\n",
       "      <th>14.0</th>\n",
       "      <td>94.578415</td>\n",
       "      <td>124.849602</td>\n",
       "    </tr>\n",
       "  </tbody>\n",
       "</table>\n",
       "</div>"
      ],
      "text/plain": [
       "                     MAE        RMSE\n",
       "minute_of_qh                        \n",
       "0.0           106.137192  141.060532\n",
       "1.0           108.382637  144.403214\n",
       "2.0           105.419220  140.108643\n",
       "3.0           104.728371  139.033112\n",
       "4.0           103.982903  137.961655\n",
       "5.0           103.227036  136.904419\n",
       "6.0           102.455048  135.786713\n",
       "7.0           101.707588  134.706482\n",
       "8.0           100.861298  133.469452\n",
       "9.0            99.987984  132.263809\n",
       "10.0           99.074638  130.972916\n",
       "11.0           98.095154  129.617493\n",
       "12.0           97.023209  128.133575\n",
       "13.0           95.855759  126.551323\n",
       "14.0           94.578415  124.849602"
      ]
     },
     "execution_count": 17,
     "metadata": {},
     "output_type": "execute_result"
    }
   ],
   "source": [
    "show_error_per_minute(results_linear15)"
   ]
  },
  {
   "attachments": {},
   "cell_type": "markdown",
   "metadata": {},
   "source": [
    "---\n",
    "\n",
    "## R&D"
   ]
  },
  {
   "cell_type": "code",
   "execution_count": 81,
   "metadata": {},
   "outputs": [],
   "source": [
    "MINUTE = \"all\"\n",
    "\n",
    "qh_parameters = {\n",
    "    \"system_imbalance_cum15\": {\n",
    "        \"lags\": [1, -1, -2, -3, -4, -5, \n",
    "        -95, -94, -93, -96,\n",
    "        -191, -190, -189, -192,\n",
    "        -287, -286, -285, -288,\n",
    "        -383, -382, -381, -384,\n",
    "        -479, -478, -477, -480,\n",
    "        -575, -574, -573, -576,\n",
    "        -671, -670, -669, -672,\n",
    "        -17, -21, -23]},\n",
    "\n",
    "    \"xb_grand_total\": {\n",
    "        \"lags\": [4, 1, 0, -4]},\n",
    "\n",
    "    \"total_load_last_mw\": {\n",
    "        \"lags\": [3, -3]},\n",
    "    \"nrv_rt\": {\n",
    "        \"lags\": [-1, -2, -3, -4]},\n",
    "    \"load_rt_mw\": {\n",
    "        \"lags\": [-3]},\n",
    "    \"wind_rt_mw\": {\n",
    "        \"lags\": [-1, -3]},\n",
    "\n",
    "    \"temperature_diff\": {\n",
    "    \"lags\": [4, 0]},\n",
    "}\n",
    "\n",
    "minute_parameters = {\n",
    "    \"system_imbalance\": {\n",
    "        \"lags\": [-2, -181, -18, -33, -64, -63]},\n",
    "\n",
    "    \"net_regulation_volume\": {\n",
    "        \"lags\": [-2]},\n",
    "}\n",
    "\n",
    "# Prepare training dataframe:\n",
    "df = join_qh_min_data(\n",
    "    qh_data=qh,\n",
    "    minute_data=minute,\n",
    "    qh_parameters=qh_parameters,\n",
    "    minute_parameters=minute_parameters,\n",
    "    minute=MINUTE,\n",
    ")\n",
    "TARGET = \"system_imbalance_cum15_from_qh_plus_1\"\n",
    "FEATURES = [feature for feature in df.columns if feature != TARGET]\n",
    "\n",
    "df = df.dropna()"
   ]
  },
  {
   "cell_type": "markdown",
   "metadata": {},
   "source": [
    "#### Linear"
   ]
  },
  {
   "cell_type": "code",
   "execution_count": 7,
   "metadata": {},
   "outputs": [
    {
     "name": "stdout",
     "output_type": "stream",
     "text": [
      "MODEL: Ridge\n",
      "Using RobustScaler\n",
      "Time configuration: 91 splits, 4 testing days, 20 training weeks. Total predicted time: 364 days.\n",
      "\n"
     ]
    },
    {
     "name": "stderr",
     "output_type": "stream",
     "text": [
      "  0%|          | 0/91 [00:00<?, ?it/s]"
     ]
    },
    {
     "name": "stderr",
     "output_type": "stream",
     "text": [
      "100%|██████████| 91/91 [00:34<00:00,  2.62it/s]"
     ]
    },
    {
     "name": "stdout",
     "output_type": "stream",
     "text": [
      "\n",
      "Train set average error:\n",
      "MAE: 99.79MW | RMSE: 132.16MW\n",
      "Test set average error:\n",
      "MAE: 102.55MW | RMSE: 135.98MW | MASE: 0.6845 | P90 Error: 216.27MW | Max Error: 1158.2 (2022-10-05 10:00:00+02:00)\n",
      "Time elapsed: 34.87s | Time per split: ~0.38s\n",
      "\n"
     ]
    },
    {
     "name": "stderr",
     "output_type": "stream",
     "text": [
      "\n"
     ]
    }
   ],
   "source": [
    "# Set up splits and model features:\n",
    "tscv = TimeSeriesSplit(\n",
    "    n_splits=52 * 7 // 4,\n",
    "    max_train_size=15 * 4 * 24 * 7 * 20,\n",
    "    test_size=15 * 4 * 24 * 4,\n",
    "    gap=0\n",
    ")\n",
    "\n",
    "from sklearn.linear_model import Ridge\n",
    "\n",
    "model_ridge = Ridge(\n",
    "    alpha=0.5,\n",
    "    tol=1e-4,\n",
    "    max_iter=1000,\n",
    "    solver=\"auto\",\n",
    ")\n",
    "\n",
    "scaler_robust = RobustScaler(\n",
    "    with_centering=True,\n",
    "    with_scaling=True,\n",
    ")\n",
    "\n",
    "# Cross-validation:\n",
    "results_linear = backtesting_CV(model=model_ridge,\n",
    "                                data=df,\n",
    "                                time_splits=tscv,\n",
    "                                features=FEATURES,\n",
    "                                target=TARGET,\n",
    "                                progress_bar=True,\n",
    "                                use_scaler=scaler_robust,\n",
    "                                verbose=False)"
   ]
  },
  {
   "cell_type": "code",
   "execution_count": 12,
   "metadata": {},
   "outputs": [
    {
     "name": "stdout",
     "output_type": "stream",
     "text": [
      "MODEL: HuberRegressor\n",
      "Time configuration: 26 splits, 14 testing days, 20 training weeks. Total predicted time: 364 days.\n",
      "\n"
     ]
    },
    {
     "name": "stderr",
     "output_type": "stream",
     "text": [
      "100%|██████████| 26/26 [09:08<00:00, 21.11s/it]"
     ]
    },
    {
     "name": "stdout",
     "output_type": "stream",
     "text": [
      "\n",
      "Train set average error:\n",
      "MAE: 99.50MW | RMSE: 132.03MW\n",
      "Test set average error:\n",
      "MAE: 102.83MW | RMSE: 136.27MW | MASE: 0.6860 | P90 Error: 217.32MW | Max Error: 1138.9 (2022-10-05 10:00:00+02:00)\n",
      "Time elapsed: 548.95s | Time per split: ~21.11s\n",
      "\n",
      "6.18% | 6.03%\n"
     ]
    },
    {
     "name": "stderr",
     "output_type": "stream",
     "text": [
      "\n"
     ]
    }
   ],
   "source": [
    "from sklearn.linear_model import HuberRegressor\n",
    "\n",
    "tscv = TimeSeriesSplit(\n",
    "    n_splits=52 // 2, max_train_size=15 * 4 * 24 * 7 * 20, test_size=15 * 4 * 24 * 7 * 2, gap=0\n",
    ")\n",
    "\n",
    "model_huber = HuberRegressor(\n",
    "    epsilon=1.2,\n",
    "    max_iter=500,\n",
    "    alpha=0,\n",
    "    tol=1e-3,\n",
    ")\n",
    "\n",
    "# Cross-validation:\n",
    "results_huber = backtesting_CV(\n",
    "    model=model_huber,\n",
    "    data=df,\n",
    "    time_splits=tscv,\n",
    "    features=FEATURES,\n",
    "    target=TARGET,\n",
    "    use_scaler=True,\n",
    "    progress_bar=True,\n",
    "    verbose=False\n",
    ")\n",
    "\n",
    "check(102.83, 136.27)"
   ]
  },
  {
   "cell_type": "code",
   "execution_count": 84,
   "metadata": {},
   "outputs": [
    {
     "name": "stdout",
     "output_type": "stream",
     "text": [
      "MODEL: LinearSVR\n",
      "Time configuration: 52 splits, 7 testing days, 30 training weeks. Total predicted time: 364 days.\n",
      "\n"
     ]
    },
    {
     "name": "stderr",
     "output_type": "stream",
     "text": [
      "100%|██████████| 52/52 [12:58<00:00, 14.97s/it]"
     ]
    },
    {
     "name": "stdout",
     "output_type": "stream",
     "text": [
      "\n",
      "Train set average error:\n",
      "MAE: 98.48MW | RMSE: 131.08MW\n",
      "Test set average error:\n",
      "MAE: 102.34MW | RMSE: 136.05MW | MASE: 0.6831 | P90 Error: 216.28MW | Max Error: 1143.7 (2022-10-05 10:00:00+02:00)\n",
      "Time elapsed: 778.54s | Time per split: ~14.97s\n",
      "\n",
      "8.2% | 8.5% | 0.706\n"
     ]
    },
    {
     "name": "stderr",
     "output_type": "stream",
     "text": [
      "\n"
     ]
    }
   ],
   "source": [
    "from sklearn.svm import LinearSVR\n",
    "\n",
    "# Set up splits and model features:\n",
    "tscv = TimeSeriesSplit(\n",
    "    n_splits=52,\n",
    "    max_train_size=15 * 4 * 24 * 7 * 30,\n",
    "    test_size=15 * 4 * 24 * 7,\n",
    "    gap=0\n",
    ")\n",
    "\n",
    "svr = LinearSVR(\n",
    "    tol=1e-3,\n",
    "    C=25,\n",
    "    epsilon=0.1,\n",
    "    fit_intercept=True,\n",
    "    max_iter=500,\n",
    "    dual=\"auto\"\n",
    ")\n",
    "\n",
    "# Cross-validation:\n",
    "results_svr = backtesting_CV(\n",
    "    model=svr,\n",
    "    data=df, \n",
    "    time_splits=tscv,\n",
    "    features=FEATURES,\n",
    "    use_scaler=True,\n",
    "    target=TARGET,\n",
    "    progress_bar=True,\n",
    "    verbose=False\n",
    ")\n",
    "\n",
    "check(102.82, 136.27)"
   ]
  },
  {
   "cell_type": "markdown",
   "metadata": {},
   "source": [
    "#### PCA"
   ]
  },
  {
   "cell_type": "code",
   "execution_count": null,
   "metadata": {},
   "outputs": [],
   "source": [
    "from sklearn.decomposition import PCA\n",
    "from sklearn.pipeline import make_pipeline\n",
    "from sklearn.preprocessing import StandardScaler\n",
    "\n",
    "model_pca = make_pipeline(StandardScaler(), PCA(20), LinearRegression())\n",
    "\n",
    "# Cross-validation:\n",
    "results_pca = backtesting_CV(\n",
    "    model=model_pca,\n",
    "    data=df,\n",
    "    time_splits=tscv,\n",
    "    features=FEATURES,\n",
    "    target=TARGET,\n",
    "    use_scaler=False,\n",
    "    progress_bar=True,\n",
    "    verbose=False)"
   ]
  },
  {
   "cell_type": "markdown",
   "metadata": {},
   "source": [
    "#### SVR"
   ]
  },
  {
   "cell_type": "code",
   "execution_count": 120,
   "metadata": {},
   "outputs": [],
   "source": [
    "from sklearn.svm import SVR\n",
    "\n",
    "svr = SVR(\n",
    "    kernel=\"rbf\",\n",
    "    gamma=\"scale\",\n",
    "    C=20,\n",
    "    epsilon=0.1,\n",
    "    cache_size=1000,  # [MB]\n",
    ")\n",
    "\n",
    "# Cross-validation:\n",
    "results_svr = backtesting_CV(model=svr,\n",
    "                             data=df,\n",
    "                             time_splits=tscv,\n",
    "                             features=FEATURES,\n",
    "                             use_scaler=True,\n",
    "                             target=TARGET,\n",
    "                             progress_bar=True,\n",
    "                             verbose=False)"
   ]
  },
  {
   "cell_type": "markdown",
   "metadata": {},
   "source": [
    "#### SGD"
   ]
  },
  {
   "cell_type": "code",
   "execution_count": 82,
   "metadata": {},
   "outputs": [
    {
     "name": "stdout",
     "output_type": "stream",
     "text": [
      "MODEL: SGDRegressor\n",
      "Time configuration: 52 splits, 7 testing days, 40 training weeks. Total predicted time: 364 days.\n",
      "\n"
     ]
    },
    {
     "name": "stderr",
     "output_type": "stream",
     "text": [
      "100%|██████████| 52/52 [04:02<00:00,  4.67s/it]\n"
     ]
    },
    {
     "name": "stdout",
     "output_type": "stream",
     "text": [
      "\n",
      "Train set average error:\n",
      "MAE: 97.60MW | RMSE: 129.56MW\n",
      "Test set average error:\n",
      "MAE: 102.81MW | RMSE: 136.30MW | MASE: 0.6862 | P90 Error: 217.04MW | Max Error: 1114.5 (2022-09-06 21:17:00+02:00)\n",
      "Time elapsed: 242.96s | Time per split: ~4.67s\n",
      "\n"
     ]
    }
   ],
   "source": [
    "from sklearn.linear_model import SGDRegressor\n",
    "\n",
    "tscv = TimeSeriesSplit(\n",
    "    n_splits=52, max_train_size=15 * 4 * 24 * 7 * 40, test_size=15 * 4 * 24 * 7, gap=0\n",
    ")\n",
    "\n",
    "sgd = SGDRegressor(\n",
    "    alpha=0,\n",
    "    tol=1e-3,\n",
    "    max_iter=1000,\n",
    ")\n",
    "\n",
    "# Cross-validation:\n",
    "results_sgd = backtesting_CV(\n",
    "    model=sgd,\n",
    "    data=df,\n",
    "    time_splits=tscv,\n",
    "    features=FEATURES,\n",
    "    use_scaler=True,\n",
    "    target=TARGET,\n",
    "    progress_bar=True,\n",
    "    verbose=False,\n",
    ")"
   ]
  },
  {
   "cell_type": "markdown",
   "metadata": {},
   "source": [
    "#### Trees"
   ]
  },
  {
   "cell_type": "code",
   "execution_count": 172,
   "metadata": {},
   "outputs": [],
   "source": [
    "MINUTE = \"all\"\n",
    "qh_parameters = {\n",
    "    \"system_imbalance_cum15\": {\n",
    "        \"lags\": [1, -1, -2, -3, -4, -5, \n",
    "        -95, -94, -93, -96,\n",
    "        -191, -190, -189, -192,\n",
    "        -287, -286, -285, -288,\n",
    "        -383, -382, -381, -384,\n",
    "        -479, -478, -477, -480,\n",
    "        -575, -574, -573, -576,\n",
    "        -671, -670, -669, -672,\n",
    "        -17, -21, -23]},\n",
    "\n",
    "    \"xb_grand_total\": {\n",
    "        \"lags\": [4, 1, 0, -4]},\n",
    "\n",
    "    \"total_load_last_mw\": {\n",
    "        \"lags\": [3, -3]},\n",
    "    \"nrv_rt\": {\n",
    "        \"lags\": [-1, -2, -3, -4]},\n",
    "    \"load_rt_mw\": {\n",
    "        \"lags\": [-3]},\n",
    "    \"wind_rt_mw\": {\n",
    "        \"lags\": [-1, -3]},\n",
    "\n",
    "    \"temperature_diff\": {\n",
    "    \"lags\": [4, 0]},\n",
    "}\n",
    "\n",
    "minute_parameters = {\n",
    "    \"system_imbalance\": {\n",
    "        \"lags\": [-2, -181, -18, -33, -64, -63]},\n",
    "\n",
    "    \"net_regulation_volume\": {\n",
    "        \"lags\": [-2]},\n",
    "}\n",
    "\n",
    "# Prepare training dataframe:\n",
    "df = join_qh_min_data(\n",
    "    qh_data=qh,\n",
    "    minute_data=minute,\n",
    "    qh_parameters=qh_parameters,\n",
    "    minute_parameters=minute_parameters,\n",
    "    minute=MINUTE,\n",
    ")\n",
    "df = df.dropna()\n",
    "\n",
    "TARGET = \"system_imbalance_cum15_from_qh_plus_1\"\n",
    "FEATURES = [feature for feature in df.columns if feature != TARGET]\n",
    "\n",
    "# Let's encode the minute of qh with dummy variables:\n",
    "df = df.assign(minute_of_qh=(df.index.minute % 15).astype(\"category\"))\n",
    "df = pd.get_dummies(\n",
    "    df, columns=[\"minute_of_qh\"], drop_first=True, prefix=\"min\", prefix_sep=\"_\"\n",
    ")"
   ]
  },
  {
   "cell_type": "code",
   "execution_count": 174,
   "metadata": {},
   "outputs": [
    {
     "name": "stdout",
     "output_type": "stream",
     "text": [
      "MODEL: HistGradientBoostingRegressor\n",
      "Time configuration: 26 splits, 14 testing days, 60 training weeks. Total predicted time: 364 days.\n",
      "\n"
     ]
    },
    {
     "name": "stderr",
     "output_type": "stream",
     "text": [
      "  0%|          | 0/26 [00:00<?, ?it/s]"
     ]
    },
    {
     "name": "stdout",
     "output_type": "stream",
     "text": [
      "WARNING: there isn't enough data to fullfill the desired max_train_size for all time splits!\n"
     ]
    },
    {
     "name": "stderr",
     "output_type": "stream",
     "text": [
      "100%|██████████| 26/26 [02:20<00:00,  5.42s/it]"
     ]
    },
    {
     "name": "stdout",
     "output_type": "stream",
     "text": [
      "\n",
      "Train set average error:\n",
      "MAE: 88.03MW | RMSE: 114.97MW\n",
      "Test set average error:\n",
      "MAE: 104.91MW | RMSE: 140.09MW | MASE: 0.7003 | P90 Error: 222.42MW | Max Error: 1109.5 (2022-10-05 10:00:00+02:00)\n",
      "Time elapsed: 140.96s | Time per split: ~5.42s\n",
      "\n",
      "6.1% | 6.2% | 0.723\n"
     ]
    },
    {
     "name": "stderr",
     "output_type": "stream",
     "text": [
      "\n"
     ]
    }
   ],
   "source": [
    "from sklearn.ensemble import HistGradientBoostingRegressor\n",
    "\n",
    "\n",
    "tscv = TimeSeriesSplit(\n",
    "    n_splits=52 // 2, max_train_size=15 * 4 * 24 * 7 * 60, test_size=15 * 4 * 24 * 7 * 2, gap=0\n",
    ")\n",
    "\n",
    "# Fit a Random Forest regressor model:\n",
    "forest = HistGradientBoostingRegressor(\n",
    "    # loss=\"squared_error\",\n",
    "    # learning_rate=0.01,\n",
    "    max_iter=120,\n",
    "    # l2_regularization=0.00,\n",
    "    # max_leaf_nodes=5,\n",
    "    # max_depth=5,\n",
    "    tol=1e-3,\n",
    "    early_stopping=True,\n",
    "    n_iter_no_change=30,\n",
    "    validation_fraction=0.2,\n",
    "    verbose=False,\n",
    ")\n",
    "\n",
    "# Cross-validation:\n",
    "results_forest = backtesting_CV(\n",
    "    model=forest,\n",
    "    data=df,\n",
    "    time_splits=tscv,\n",
    "    features=FEATURES,\n",
    "    use_scaler=True,\n",
    "    target=TARGET,\n",
    "    progress_bar=True,\n",
    "    verbose=False,\n",
    ")\n",
    "\n",
    "check(105.17, 139.71)"
   ]
  },
  {
   "cell_type": "code",
   "execution_count": 13,
   "metadata": {},
   "outputs": [
    {
     "name": "stdout",
     "output_type": "stream",
     "text": [
      "MODEL: RandomForestRegressor\n",
      "Time configuration: 13 splits, 28 testing days, 50 training weeks. Total predicted time: 364 days.\n",
      "\n"
     ]
    },
    {
     "name": "stderr",
     "output_type": "stream",
     "text": [
      "100%|██████████| 13/13 [44:29<00:00, 205.32s/it]"
     ]
    },
    {
     "name": "stdout",
     "output_type": "stream",
     "text": [
      "\n",
      "Train set average error:\n",
      "MAE: 99.37MW | RMSE: 131.02MW\n",
      "Test set average error:\n",
      "MAE: 111.26MW | RMSE: 148.45MW | MASE: 0.7426 | P90 Error: 236.90MW | Max Error: 1091.1 (2022-10-05 10:00:00+02:00)\n",
      "Time elapsed: 2669.24s | Time per split: ~205.33s\n",
      "\n"
     ]
    },
    {
     "name": "stderr",
     "output_type": "stream",
     "text": [
      "\n"
     ]
    }
   ],
   "source": [
    "from sklearn.ensemble import RandomForestRegressor\n",
    "\n",
    "tscv = TimeSeriesSplit(\n",
    "    n_splits=52 // 2 // 2, max_train_size=15 * 4 * 24 * 7 * 50, test_size=15 * 4 * 24 * 7 * 4, gap=0\n",
    ")\n",
    "\n",
    "# Fit a Random Forest regressor model:\n",
    "forest = RandomForestRegressor(\n",
    "    n_estimators=200,\n",
    "    criterion=\"squared_error\",\n",
    "    max_depth=8,\n",
    "    min_samples_split=4,\n",
    "    n_jobs=-1,\n",
    "    verbose=False\n",
    ")\n",
    "\n",
    "# Cross-validation:\n",
    "results_forest = backtesting_CV(model=forest,\n",
    "                                data=df,\n",
    "                                time_splits=tscv,\n",
    "                                features=FEATURES,\n",
    "                                use_scaler=False,\n",
    "                                target=TARGET,\n",
    "                                progress_bar=True,\n",
    "                                verbose=False)"
   ]
  },
  {
   "cell_type": "code",
   "execution_count": 11,
   "metadata": {},
   "outputs": [
    {
     "name": "stdout",
     "output_type": "stream",
     "text": [
      "MODEL: XGBRFRegressor\n",
      "Time configuration: 26 splits, 14 testing days, 50 training weeks. Total predicted time: 364 days.\n",
      "\n"
     ]
    },
    {
     "name": "stderr",
     "output_type": "stream",
     "text": [
      "100%|██████████| 26/26 [06:32<00:00, 15.09s/it]"
     ]
    },
    {
     "name": "stdout",
     "output_type": "stream",
     "text": [
      "\n",
      "Train set average error:\n",
      "MAE: 109.63MW | RMSE: 146.50MW\n",
      "Test set average error:\n",
      "MAE: 116.49MW | RMSE: 155.54MW | MASE: 0.7775 | P90 Error: 247.66MW | Max Error: 1160.0 (2022-10-05 10:00:00+02:00)\n",
      "Time elapsed: 392.50s | Time per split: ~15.10s\n",
      "\n"
     ]
    },
    {
     "name": "stderr",
     "output_type": "stream",
     "text": [
      "\n"
     ]
    }
   ],
   "source": [
    "from xgboost import XGBRFRegressor\n",
    "\n",
    "tscv = TimeSeriesSplit(\n",
    "    n_splits=52 // 2, max_train_size=15 * 4 * 24 * 7 * 50, test_size=15 * 4 * 24 * 7 * 2, gap=0\n",
    ")\n",
    "\n",
    "# Start with a random forests attempt:\n",
    "model_xgboost = XGBRFRegressor(\n",
    "    max_depth=3,\n",
    "    booster='gbtree',\n",
    "    n_estimators=150,\n",
    "    objective='reg:squarederror',\n",
    "    n_jobs=-1\n",
    ")\n",
    "\n",
    "results_forest = backtesting_CV(model=model_xgboost,\n",
    "                                data=df,\n",
    "                                time_splits=tscv,\n",
    "                                features=FEATURES,\n",
    "                                use_scaler=True,\n",
    "                                target=TARGET,\n",
    "                                progress_bar=True,\n",
    "                                verbose=False)"
   ]
  },
  {
   "cell_type": "markdown",
   "metadata": {},
   "source": [
    "---\n",
    "\n",
    "## One-model-per-min"
   ]
  },
  {
   "cell_type": "code",
   "execution_count": 51,
   "metadata": {},
   "outputs": [
    {
     "name": "stdout",
     "output_type": "stream",
     "text": [
      "MODEL: Ridge\n",
      "Time configuration: 91 splits, 4 testing days, 30 training weeks. Total predicted time: 364 days.\n",
      "\n",
      "MODEL: Ridge\n",
      "Time configuration: 91 splits, 4 testing days, 30 training weeks. Total predicted time: 364 days.\n",
      "\n",
      "MODEL: Ridge\n",
      "Time configuration: 91 splits, 4 testing days, 30 training weeks. Total predicted time: 364 days.\n",
      "\n",
      "MODEL: Ridge\n",
      "Time configuration: 91 splits, 4 testing days, 30 training weeks. Total predicted time: 364 days.\n",
      "\n",
      "MODEL: Ridge\n",
      "Time configuration: 91 splits, 4 testing days, 30 training weeks. Total predicted time: 364 days.\n",
      "\n",
      "MODEL: Ridge\n",
      "Time configuration: 91 splits, 4 testing days, 30 training weeks. Total predicted time: 364 days.\n",
      "\n",
      "MODEL: Ridge\n",
      "Time configuration: 91 splits, 4 testing days, 30 training weeks. Total predicted time: 364 days.\n",
      "\n",
      "MODEL: Ridge\n",
      "Time configuration: 91 splits, 4 testing days, 30 training weeks. Total predicted time: 364 days.\n",
      "\n",
      "MODEL: Ridge\n",
      "Time configuration: 91 splits, 4 testing days, 30 training weeks. Total predicted time: 364 days.\n",
      "\n",
      "MODEL: Ridge\n",
      "Time configuration: 91 splits, 4 testing days, 30 training weeks. Total predicted time: 364 days.\n",
      "\n",
      "MODEL: Ridge\n",
      "Time configuration: 91 splits, 4 testing days, 30 training weeks. Total predicted time: 364 days.\n",
      "\n",
      "MODEL: Ridge\n",
      "Time configuration: 91 splits, 4 testing days, 30 training weeks. Total predicted time: 364 days.\n",
      "\n",
      "MODEL: Ridge\n",
      "Time configuration: 91 splits, 4 testing days, 30 training weeks. Total predicted time: 364 days.\n",
      "\n",
      "MODEL: Ridge\n",
      "Time configuration: 91 splits, 4 testing days, 30 training weeks. Total predicted time: 364 days.\n",
      "\n",
      "MODEL: Ridge\n",
      "Time configuration: 91 splits, 4 testing days, 30 training weeks. Total predicted time: 364 days.\n",
      "\n"
     ]
    }
   ],
   "source": [
    "qh_parameters = {\n",
    "    \"system_imbalance_cum15\": {\n",
    "        \"lags\": [1, -1, -2, -3, -4, -5, \n",
    "        -95, -94, -93, -96,\n",
    "        -191, -190, -189, -192,\n",
    "        -287, -286, -285, -288,\n",
    "        -383, -382, -381, -384,\n",
    "        -479, -478, -477, -480,\n",
    "        -575, -574, -573, -576,\n",
    "        -671, -670, -669, -672,\n",
    "        -17, -21, -23]},\n",
    "\n",
    "    \"xb_grand_total\": {\n",
    "        \"lags\": [4, 1, 0, -4]},\n",
    "\n",
    "    \"total_load_last_mw\": {\n",
    "        \"lags\": [3, -3]},\n",
    "    \"nrv_rt\": {\n",
    "        \"lags\": [-1, -2, -3, -4]},\n",
    "    \"load_rt_mw\": {\n",
    "        \"lags\": [-3]},\n",
    "    \"wind_rt_mw\": {\n",
    "        \"lags\": [-1, -3]},\n",
    "\n",
    "    \"temperature_diff\": {\n",
    "    \"lags\": [4, 0]},\n",
    "}\n",
    "\n",
    "minute_parameters = {\n",
    "    \"system_imbalance\": {\n",
    "        \"lags\": [-2, -181, -18, -33, -64, -63]},\n",
    "\n",
    "    \"net_regulation_volume\": {\n",
    "        \"lags\": [-2]},\n",
    "}\n",
    "\n",
    "df = join_qh_min_data(\n",
    "    qh_data=qh,\n",
    "    minute_data=minute,\n",
    "    qh_parameters=qh_parameters,\n",
    "    minute_parameters=minute_parameters,\n",
    "    minute=\"all\",\n",
    ")\n",
    "df= df.dropna()\n",
    "\n",
    "tscv = TimeSeriesSplit(\n",
    "    n_splits=52 * 7 // 4,\n",
    "    max_train_size=4 * 24 * 7 * 30,\n",
    "    test_size=4 * 24 * 4,\n",
    "    gap=0\n",
    ")\n",
    "\n",
    "model_ridge = Ridge(\n",
    "    alpha=0.5,\n",
    "    tol=1e-4,\n",
    "    max_iter=1000,\n",
    "    solver=\"auto\",\n",
    ")\n",
    "\n",
    "TARGET = \"system_imbalance_cum15_from_qh_plus_1\"\n",
    "FEATURES = [feature for feature in df.columns if feature != TARGET]\n",
    "\n",
    "results_linear15 = pd.DataFrame()\n",
    "\n",
    "for ii_minute in range(15):\n",
    "    results_linear1 = backtesting_CV(\n",
    "        model=model_ridge,\n",
    "        data=df.loc[df.index.minute % 15 == ii_minute],\n",
    "        time_splits=tscv,\n",
    "        features=FEATURES,\n",
    "        target=TARGET,\n",
    "        progress_bar=False,\n",
    "        use_scaler=True,\n",
    "        print_error_metrics=False,\n",
    "        verbose=False\n",
    "    )\n",
    "\n",
    "    results_linear15 = pd.concat([results_linear15, results_linear1[0]], join=\"outer\", axis=0)\n",
    "\n",
    "results_linear15 = results_linear15.sort_index()\n",
    "\n",
    "del results_linear1"
   ]
  },
  {
   "cell_type": "code",
   "execution_count": 52,
   "metadata": {},
   "outputs": [
    {
     "name": "stdout",
     "output_type": "stream",
     "text": [
      "Total MAE: 101.43MW | Total RMSE: 134.50MW\n",
      "9.4% | 9.7% | 0.697\n"
     ]
    }
   ],
   "source": [
    "total_mae = mean_absolute_error(results_linear15[\"y_pred\"], results_linear15[\"y_test\"])\n",
    "total_rmse = np.sqrt(mean_squared_error(results_linear15[\"y_pred\"], results_linear15[\"y_test\"]))\n",
    "print(f\"Total MAE: {total_mae:.2f}MW | Total RMSE: {total_rmse:.2f}MW\")\n",
    "\n",
    "check(101.43, 134.50)"
   ]
  },
  {
   "cell_type": "markdown",
   "metadata": {},
   "source": [
    "---\n",
    "\n",
    "## Recursive forecasting (double model)"
   ]
  },
  {
   "cell_type": "code",
   "execution_count": 11,
   "metadata": {},
   "outputs": [],
   "source": [
    "MINUTE = \"all\"\n",
    "\n",
    "qh_parameters = {\n",
    "    \"system_imbalance_cum15\": {\n",
    "        \"lags\": [0, -1, -2, -3, -4, -5, \n",
    "        -95, -94, -93, -96,\n",
    "        -191, -190, -189, -192,\n",
    "        -287, -286, -285, -288,\n",
    "        -383, -382, -381, -384,\n",
    "        -479, -478, -477, -480,\n",
    "        -575, -574, -573, -576,\n",
    "        -671, -670, -669, -672,\n",
    "        -17, -21, -23]},\n",
    "\n",
    "    \"xb_grand_total\": {\n",
    "        \"lags\": [4, 1, 0, -4]},\n",
    "\n",
    "    \"total_load_last_mw\": {\n",
    "        \"lags\": [3, -3]},\n",
    "    \"nrv_rt\": {\n",
    "        \"lags\": [-1, -2, -3, -4]},\n",
    "    \"load_rt_mw\": {\n",
    "        \"lags\": [-3]},\n",
    "    \"wind_rt_mw\": {\n",
    "        \"lags\": [-1, -3]},\n",
    "\n",
    "    \"temperature_diff\": {\n",
    "    \"lags\": [4, 0]},\n",
    "}\n",
    "\n",
    "minute_parameters = {\n",
    "    \"system_imbalance\": {\n",
    "        \"lags\": [-2, -181, -18, -33, -64, -63]},\n",
    "\n",
    "    \"net_regulation_volume\": {\n",
    "        \"lags\": [-2]},\n",
    "}\n",
    "\n",
    "# Prepare training dataframe:\n",
    "df = join_qh_min_data(\n",
    "    qh_data=qh,\n",
    "    minute_data=minute,\n",
    "    qh_parameters=qh_parameters,\n",
    "    minute_parameters=minute_parameters,\n",
    "    minute=MINUTE,\n",
    ")\n",
    "TARGET = \"system_imbalance_cum15_current_qh\" # !!!\n",
    "FEATURES = [feature for feature in df.columns if feature != TARGET]\n",
    "\n",
    "df = df.dropna()"
   ]
  },
  {
   "cell_type": "code",
   "execution_count": 12,
   "metadata": {},
   "outputs": [
    {
     "name": "stdout",
     "output_type": "stream",
     "text": [
      "MODEL: Ridge\n",
      "Time configuration: 126 splits, 4 testing days, 20 training weeks. Total predicted time: 504 days.\n",
      "\n"
     ]
    },
    {
     "name": "stderr",
     "output_type": "stream",
     "text": [
      "100%|██████████| 126/126 [00:32<00:00,  3.87it/s]\n"
     ]
    },
    {
     "name": "stdout",
     "output_type": "stream",
     "text": [
      "\n",
      "Train set average error:\n",
      "MAE: 53.03MW | RMSE: 76.10MW\n",
      "Test set average error:\n",
      "MAE: 54.84MW | RMSE: 78.40MW | MASE: 0.4877 | P90 Error: 121.77MW | Max Error: 952.6 (2022-09-06 21:30:00+02:00)\n",
      "Time elapsed: 32.78s | Time per split: ~0.26s\n",
      "\n"
     ]
    }
   ],
   "source": [
    "from sklearn.linear_model import Ridge\n",
    "\n",
    "# Set up splits and model features:\n",
    "tscv = TimeSeriesSplit(\n",
    "    n_splits=52 * 7 // 4 + int(20 * 7 / 4), # !! We add extra splits to use those predictions in training the next model)\n",
    "    max_train_size=15 * 4 * 24 * 7 * 20,\n",
    "    test_size=15 * 4 * 24 * 4,\n",
    "    gap=0\n",
    ")\n",
    "\n",
    "model_ridge = Ridge(\n",
    "    alpha=0.5,\n",
    "    tol=1e-4,\n",
    "    max_iter=1000,\n",
    "    solver=\"auto\",\n",
    ")\n",
    "\n",
    "# Cross-validation:\n",
    "results_linear = backtesting_CV(model=model_ridge,\n",
    "                                data=df,\n",
    "                                time_splits=tscv,\n",
    "                                features=FEATURES,\n",
    "                                target=TARGET,\n",
    "                                progress_bar=True,\n",
    "                                use_scaler=True,\n",
    "                                verbose=False)\n",
    "# check(102.50, 135.92)"
   ]
  },
  {
   "cell_type": "code",
   "execution_count": 16,
   "metadata": {},
   "outputs": [],
   "source": [
    "MINUTE = \"all\"\n",
    "\n",
    "qh_parameters = {\n",
    "    \"system_imbalance_cum15\": {\n",
    "        \"lags\": [1, -1, -2, -3, -4, -5, \n",
    "        -95, -94, -93, -96,\n",
    "        -191, -190, -189, -192,\n",
    "        -287, -286, -285, -288,\n",
    "        -383, -382, -381, -384,\n",
    "        -479, -478, -477, -480,\n",
    "        -575, -574, -573, -576,\n",
    "        -671, -670, -669, -672,\n",
    "        -17, -21, -23]},\n",
    "\n",
    "    \"xb_grand_total\": {\n",
    "        \"lags\": [4, 1, 0, -4]},\n",
    "\n",
    "    \"total_load_last_mw\": {\n",
    "        \"lags\": [3, -3]},\n",
    "    \"nrv_rt\": {\n",
    "        \"lags\": [-1, -2, -3, -4]},\n",
    "    \"load_rt_mw\": {\n",
    "        \"lags\": [-3]},\n",
    "    \"wind_rt_mw\": {\n",
    "        \"lags\": [-1, -3]},\n",
    "\n",
    "    \"temperature_diff\": {\n",
    "    \"lags\": [4, 0]},\n",
    "}\n",
    "\n",
    "minute_parameters = {\n",
    "    \"system_imbalance\": {\n",
    "        \"lags\": [-2, -181, -18, -33, -64, -63]},\n",
    "\n",
    "    \"net_regulation_volume\": {\n",
    "        \"lags\": [-2]},\n",
    "}\n",
    "\n",
    "# Prepare training dataframe:\n",
    "df = join_qh_min_data(\n",
    "    qh_data=qh,\n",
    "    minute_data=minute,\n",
    "    qh_parameters=qh_parameters,\n",
    "    minute_parameters=minute_parameters,\n",
    "    minute=MINUTE,\n",
    ")\n",
    "\n",
    "#! And now add the predictions as features:\n",
    "df.insert(1, \"forecast_system_imbalance_cum15_from_current_qh\", results_linear[0][\"y_pred\"])\n",
    "\n",
    "TARGET = \"system_imbalance_cum15_from_qh_plus_1\"\n",
    "FEATURES = [feature for feature in df.columns if feature != TARGET]\n",
    "\n",
    "df = df.dropna()"
   ]
  },
  {
   "cell_type": "code",
   "execution_count": 14,
   "metadata": {},
   "outputs": [
    {
     "name": "stdout",
     "output_type": "stream",
     "text": [
      "MODEL: Ridge\n",
      "Time configuration: 91 splits, 4 testing days, 20 training weeks. Total predicted time: 364 days.\n",
      "\n"
     ]
    },
    {
     "name": "stderr",
     "output_type": "stream",
     "text": [
      "  1%|          | 1/91 [00:00<00:17,  5.14it/s]"
     ]
    },
    {
     "name": "stdout",
     "output_type": "stream",
     "text": [
      "WARNING: there isn't enough data to fullfill the desired max_train_size for all time splits!\n"
     ]
    },
    {
     "name": "stderr",
     "output_type": "stream",
     "text": [
      "100%|██████████| 91/91 [00:21<00:00,  4.18it/s]"
     ]
    },
    {
     "name": "stdout",
     "output_type": "stream",
     "text": [
      "\n",
      "Train set average error:\n",
      "MAE: 99.76MW | RMSE: 132.08MW\n",
      "Test set average error:\n",
      "MAE: 102.54MW | RMSE: 136.00MW | MASE: 0.6844 | P90 Error: 216.48MW | Max Error: 1128.9 (2022-10-05 10:00:00+02:00)\n",
      "Time elapsed: 21.92s | Time per split: ~0.24s\n",
      "\n"
     ]
    },
    {
     "name": "stderr",
     "output_type": "stream",
     "text": [
      "\n"
     ]
    }
   ],
   "source": [
    "from sklearn.linear_model import Ridge\n",
    "\n",
    "# Set up splits and model features:\n",
    "tscv = TimeSeriesSplit(\n",
    "    n_splits=52 * 7 // 4,\n",
    "    max_train_size=15 * 4 * 24 * 7 * 20,\n",
    "    test_size=15 * 4 * 24 * 4,\n",
    "    gap=0\n",
    ")\n",
    "\n",
    "model_ridge = Ridge(\n",
    "    alpha=0.5,\n",
    "    tol=1e-4,\n",
    "    max_iter=1000,\n",
    "    solver=\"auto\",\n",
    ")\n",
    "\n",
    "# Cross-validation:\n",
    "results_linear = backtesting_CV(model=model_ridge,\n",
    "                                data=df,\n",
    "                                time_splits=tscv,\n",
    "                                features=FEATURES,\n",
    "                                target=TARGET,\n",
    "                                progress_bar=True,\n",
    "                                use_scaler=True,\n",
    "                                verbose=False)"
   ]
  },
  {
   "attachments": {},
   "cell_type": "markdown",
   "metadata": {},
   "source": [
    "---\n",
    "\n",
    "## Ensembles"
   ]
  },
  {
   "cell_type": "markdown",
   "metadata": {},
   "source": [
    "#### Building, testing"
   ]
  },
  {
   "cell_type": "code",
   "execution_count": 117,
   "metadata": {},
   "outputs": [],
   "source": [
    "# Combine all results:\n",
    "index_intersection = results_linear15.index.intersection(results_linear[0].index)\n",
    "\n",
    "ensemble = pd.DataFrame(\n",
    "        data={\n",
    "            \"y_test\": results_linear[0][\"y_test\"].loc[index_intersection],\n",
    "            \"linear\": results_linear[0][\"y_pred\"].loc[index_intersection],\n",
    "            \"linear15\" : results_linear15[\"y_pred\"].loc[index_intersection],\n",
    "            \"mlp\": results_mlp[0][\"y_pred\"].loc[index_intersection],\n",
    "            # \"huber\": results_huber[0][\"y_pred\"],\n",
    "            # \"svr\": results_svr[0][\"y_pred\"],\n",
    "            # \"sgd\": results_sgd[0][\"y_pred\"],\n",
    "            \"forest\": results_forest[0][\"y_pred\"].loc[index_intersection],\n",
    "        },\n",
    "        index=index_intersection\n",
    ")"
   ]
  },
  {
   "cell_type": "code",
   "execution_count": 167,
   "metadata": {},
   "outputs": [
    {
     "name": "stdout",
     "output_type": "stream",
     "text": [
      "Total MAE: 100.68MW | Total RMSE: 133.64MW\n",
      "10.1% | 10.3% | 0.692\n"
     ]
    }
   ],
   "source": [
    "# Which to use:\n",
    "to_use = [\"linear15\", \"mlp\"]\n",
    "\n",
    "# Calculate:\n",
    "total_mae = mean_absolute_error(ensemble[to_use].mean(axis=1), ensemble[\"y_test\"])\n",
    "total_rmse = np.sqrt(mean_squared_error(ensemble[to_use].mean(axis=1), ensemble[\"y_test\"]))\n",
    "print(f\"Total MAE: {total_mae:.2f}MW | Total RMSE: {total_rmse:.2f}MW\")\n",
    "\n",
    "check(100.68, 133.64)"
   ]
  },
  {
   "cell_type": "code",
   "execution_count": 24,
   "metadata": {},
   "outputs": [
    {
     "name": "stdout",
     "output_type": "stream",
     "text": [
      "Wrote\n"
     ]
    }
   ],
   "source": [
    "# To read or write:\n",
    "if \"ensemble\" in locals():\n",
    "    ensemble.to_pickle(\"ensemble.pkl\")\n",
    "    print(\"Wrote\")\n",
    "else:\n",
    "    ensemble = pd.read_pickle(\"ensemble.pkl\")\n",
    "    print(\"Read\")\n",
    "\n",
    "# To import from an external file:\n",
    "# results_mlp = results_linear.copy()\n",
    "# results_mlp[0] = pd.read_parquet(\"results_mlp.parquet\")\n",
    "# total_mae = mean_absolute_error(results_mlp[0][\"y_pred\"], results_linear[0][\"y_test\"])\n",
    "# total_rmse = np.sqrt(mean_squared_error(results_mlp[0][\"y_pred\"], results_linear[0][\"y_test\"]))\n",
    "# print(f\"Total MAE: {total_mae:.2f}MW | Total RMSE: {total_rmse:.2f}MW\")"
   ]
  },
  {
   "cell_type": "markdown",
   "metadata": {},
   "source": [
    "#### Visualising"
   ]
  },
  {
   "cell_type": "code",
   "execution_count": 128,
   "metadata": {},
   "outputs": [
    {
     "name": "stdout",
     "output_type": "stream",
     "text": [
      "Total MAE: 101.43MW | Total RMSE: 134.50MW\n"
     ]
    },
    {
     "data": {
      "image/png": "[encoded data removed]",
      "text/plain": [
       "<Figure size 640x480 with 1 Axes>"
      ]
     },
     "metadata": {},
     "output_type": "display_data"
    }
   ],
   "source": [
    "total_mae = mean_absolute_error(ensemble.y_test, ensemble.linear15)\n",
    "total_rmse = mean_squared_error(ensemble.y_test, ensemble.linear15, squared=False)\n",
    "print(f\"Total MAE: {total_mae:.2f}MW | Total RMSE: {total_rmse:.2f}MW\")\n",
    "\n",
    "ensemble[[\"y_test\", \"linear15\"]].tail(15*50).plot();\n",
    "plt.ylim(-150, 400);\n",
    "\n",
    "# plt.gcf().savefig(\"linear.png\", dpi=300)\n",
    "\n",
    "# import matplotlib.dates as mdates\n",
    "# plt.gca().xaxis.set_major_formatter(mdates.DateFormatter('%y-%m-%d %H:%M'))\n",
    "# plt.gcf().autofmt_xdate()"
   ]
  },
  {
   "cell_type": "code",
   "execution_count": 129,
   "metadata": {},
   "outputs": [
    {
     "name": "stdout",
     "output_type": "stream",
     "text": [
      "Total MAE: 101.80MW | Total RMSE: 135.19MW\n"
     ]
    },
    {
     "data": {
      "image/png": "[encoded data removed]",
      "text/plain": [
       "<Figure size 640x480 with 1 Axes>"
      ]
     },
     "metadata": {},
     "output_type": "display_data"
    }
   ],
   "source": [
    "total_mae = mean_absolute_error(ensemble.y_test, ensemble.mlp)\n",
    "total_rmse = mean_squared_error(ensemble.y_test, ensemble.mlp, squared=False)\n",
    "print(f\"Total MAE: {total_mae:.2f}MW | Total RMSE: {total_rmse:.2f}MW\")\n",
    "\n",
    "ensemble[[\"y_test\", \"mlp\"]].tail(15*50).plot();\n",
    "plt.ylim(-150, 400);\n",
    "\n",
    "# plt.gcf().savefig(\"mlp.png\", dpi=300)\n",
    "\n",
    "# import matplotlib.dates as mdates\n",
    "# plt.gca().xaxis.set_major_formatter(mdates.DateFormatter('%y-%m-%d %H:%M'))\n",
    "# plt.gcf().autofmt_xdate()"
   ]
  },
  {
   "cell_type": "markdown",
   "metadata": {},
   "source": [
    "#### Stacking"
   ]
  },
  {
   "cell_type": "code",
   "execution_count": 154,
   "metadata": {},
   "outputs": [
    {
     "data": {
      "text/html": [
       "<div>\n",
       "<style scoped>\n",
       "    .dataframe tbody tr th:only-of-type {\n",
       "        vertical-align: middle;\n",
       "    }\n",
       "\n",
       "    .dataframe tbody tr th {\n",
       "        vertical-align: top;\n",
       "    }\n",
       "\n",
       "    .dataframe thead th {\n",
       "        text-align: right;\n",
       "    }\n",
       "</style>\n",
       "<table border=\"1\" class=\"dataframe\">\n",
       "  <thead>\n",
       "    <tr style=\"text-align: right;\">\n",
       "      <th></th>\n",
       "      <th>coef</th>\n",
       "    </tr>\n",
       "  </thead>\n",
       "  <tbody>\n",
       "    <tr>\n",
       "      <th>linear</th>\n",
       "      <td>-0.693862</td>\n",
       "    </tr>\n",
       "    <tr>\n",
       "      <th>linear15</th>\n",
       "      <td>0.949626</td>\n",
       "    </tr>\n",
       "    <tr>\n",
       "      <th>mlp</th>\n",
       "      <td>0.547439</td>\n",
       "    </tr>\n",
       "    <tr>\n",
       "      <th>forest</th>\n",
       "      <td>0.253044</td>\n",
       "    </tr>\n",
       "  </tbody>\n",
       "</table>\n",
       "</div>"
      ],
      "text/plain": [
       "              coef\n",
       "linear   -0.693862\n",
       "linear15  0.949626\n",
       "mlp       0.547439\n",
       "forest    0.253044"
      ]
     },
     "execution_count": 154,
     "metadata": {},
     "output_type": "execute_result"
    }
   ],
   "source": [
    "ensemble = ensemble.dropna()\n",
    "\n",
    "# Fit en ensemble stacking using 3/4 of data:\n",
    "fit = Ridge(alpha=0.5, tol=1e-4,).fit(\n",
    "    ensemble.drop(\"y_test\", axis=1).iloc[:3*len(ensemble)//4, :], \n",
    "    ensemble[\"y_test\"].iloc[:3*len(ensemble)//4]\n",
    "    )\n",
    "pd.DataFrame(data={\"coef\":fit.coef_}, index=ensemble.drop(\"y_test\", axis=1).columns)\n",
    "\n",
    "ensemble = ensemble.dropna()\n",
    "\n",
    "# Fit en ensemble stacking using 3/4 of data:\n",
    "fit = Ridge(alpha=1.0).fit(\n",
    "    ensemble.drop(\"y_test\", axis=1).iloc[:3*len(ensemble)//4, :], \n",
    "    ensemble[\"y_test\"].iloc[:3*len(ensemble)//4]\n",
    "    )\n",
    "pd.DataFrame(data={\"coef\":fit.coef_}, index=ensemble.drop(\"y_test\", axis=1).columns)"
   ]
  },
  {
   "cell_type": "code",
   "execution_count": 155,
   "metadata": {},
   "outputs": [
    {
     "name": "stdout",
     "output_type": "stream",
     "text": [
      "Total MAE: 100.27MW | Total RMSE: 133.02MW\n",
      "10.5% | 10.7% | 0.689\n"
     ]
    }
   ],
   "source": [
    "best = fit.predict(ensemble.drop(\"y_test\", axis=1))\n",
    "\n",
    "total_mae = mean_absolute_error(best, ensemble[\"y_test\"])\n",
    "total_rmse = np.sqrt(mean_squared_error(best, ensemble[\"y_test\"]))\n",
    "print(f\"Total MAE: {total_mae:.2f}MW | Total RMSE: {total_rmse:.2f}MW\")\n",
    "\n",
    "check(100.27, 133.02)"
   ]
  },
  {
   "cell_type": "code",
   "execution_count": 156,
   "metadata": {},
   "outputs": [
    {
     "data": {
      "text/html": [
       "<div>\n",
       "<style scoped>\n",
       "    .dataframe tbody tr th:only-of-type {\n",
       "        vertical-align: middle;\n",
       "    }\n",
       "\n",
       "    .dataframe tbody tr th {\n",
       "        vertical-align: top;\n",
       "    }\n",
       "\n",
       "    .dataframe thead th {\n",
       "        text-align: right;\n",
       "    }\n",
       "</style>\n",
       "<table border=\"1\" class=\"dataframe\">\n",
       "  <thead>\n",
       "    <tr style=\"text-align: right;\">\n",
       "      <th></th>\n",
       "      <th>coef</th>\n",
       "    </tr>\n",
       "  </thead>\n",
       "  <tbody>\n",
       "    <tr>\n",
       "      <th>linear</th>\n",
       "      <td>-0.667631</td>\n",
       "    </tr>\n",
       "    <tr>\n",
       "      <th>linear15</th>\n",
       "      <td>0.937528</td>\n",
       "    </tr>\n",
       "    <tr>\n",
       "      <th>mlp</th>\n",
       "      <td>0.537123</td>\n",
       "    </tr>\n",
       "    <tr>\n",
       "      <th>forest</th>\n",
       "      <td>0.229707</td>\n",
       "    </tr>\n",
       "  </tbody>\n",
       "</table>\n",
       "</div>"
      ],
      "text/plain": [
       "              coef\n",
       "linear   -0.667631\n",
       "linear15  0.937528\n",
       "mlp       0.537123\n",
       "forest    0.229707"
      ]
     },
     "execution_count": 156,
     "metadata": {},
     "output_type": "execute_result"
    }
   ],
   "source": [
    "# Fit an ensemble stacking using all data:\n",
    "fit = LinearRegression().fit(\n",
    "    ensemble.drop(\"y_test\", axis=1),\n",
    "    ensemble[\"y_test\"]\n",
    "    )\n",
    "pd.DataFrame(data={\"coef\":fit.coef_}, index=ensemble.drop(\"y_test\", axis=1).columns)"
   ]
  },
  {
   "cell_type": "code",
   "execution_count": 157,
   "metadata": {},
   "outputs": [
    {
     "name": "stdout",
     "output_type": "stream",
     "text": [
      "Total MAE: 100.18MW | Total RMSE: 133.00MW\n",
      "10.5% | 10.7% | 0.688\n"
     ]
    }
   ],
   "source": [
    "best = fit.predict(ensemble.drop(\"y_test\", axis=1))\n",
    "\n",
    "total_mae = mean_absolute_error(best, ensemble[\"y_test\"])\n",
    "total_rmse = np.sqrt(mean_squared_error(best, ensemble[\"y_test\"]))\n",
    "print(f\"Total MAE: {total_mae:.2f}MW | Total RMSE: {total_rmse:.2f}MW\")\n",
    "\n",
    "check(100.18, 133.00)"
   ]
  },
  {
   "attachments": {},
   "cell_type": "markdown",
   "metadata": {},
   "source": [
    "---\n",
    "\n",
    "## Predicting diff()"
   ]
  },
  {
   "cell_type": "code",
   "execution_count": 158,
   "metadata": {},
   "outputs": [],
   "source": [
    "MINUTE = \"all\"\n",
    "qh_parameters = {\n",
    "    \"system_imbalance_cum15\": {\n",
    "        \"lags\": [0, -1, -2, -3, -4, -5, -95, -94, -93, -96, -671, -670, -669]},\n",
    "\n",
    "    \"total_load_last_mw\": {\n",
    "        \"lags\": [-1, -2, -3, -4]},\n",
    "    \"nrv_rt\": {\n",
    "        \"lags\": [-1, -2, -3, -4, -95, -671]},\n",
    "    \"load_rt_mw\": {\n",
    "        \"lags\": [-1, -2, -3, -4, -95, -671]},\n",
    "    \"wind_rt_mw\": {\n",
    "        \"lags\": [-1, -2, -3, -4]},\n",
    "}\n",
    "\n",
    "minute_parameters = {\n",
    "    \"system_imbalance\": {\n",
    "        \"lags\": [0, -1, -4]},\n",
    "\n",
    "    \"net_regulation_volume\": {\n",
    "        \"lags\": [0, -1, -2, -3, -4]},\n",
    "    \"rolling_15\": {\n",
    "        \"lags\": [0]},\n",
    "    \"rolling_60\": {\n",
    "        \"lags\": [0]},\n",
    "}\n",
    "\n",
    "# Prepare training dataframe:\n",
    "df = join_qh_min_data(\n",
    "    qh_data=qh,\n",
    "    minute_data=minute,\n",
    "    qh_parameters=qh_parameters,\n",
    "    minute_parameters=minute_parameters,\n",
    "    minute=MINUTE,\n",
    "    # ems_data=ems,\n",
    "    # ems_parameters=ems_parameters,\n",
    ")\n",
    "TARGET = \"system_imbalance_cum15_current_qh\"\n",
    "FEATURES = [feature for feature in df.columns if feature != TARGET]\n",
    "# FEATURES.remove(\"system_imbalance_cum15_from_qh_plus_1\")\n",
    "\n",
    "df = df.dropna()\n",
    "\n",
    "# Set up splits and model features:\n",
    "tscv = TimeSeriesSplit(n_splits=52 * 7 // 4, max_train_size=15 * 4 * 24 * 7 * 20, test_size=15 * 4 * 24 * 4, gap=0)"
   ]
  },
  {
   "cell_type": "code",
   "execution_count": 160,
   "metadata": {},
   "outputs": [],
   "source": [
    "# Cross-validation:\n",
    "results_linear = backtesting_CV(model=LinearRegression(n_jobs=-1),\n",
    "                                data=df,\n",
    "                                time_splits=tscv,\n",
    "                                features=FEATURES,\n",
    "                                target=TARGET,\n",
    "                                progress_bar=True,\n",
    "                                use_scaler=True,\n",
    "                                verbose=False)"
   ]
  },
  {
   "cell_type": "code",
   "execution_count": null,
   "metadata": {},
   "outputs": [],
   "source": [
    "qh[\"diff_system_imbalance_cum15\"] = qh[\"system_imbalance_cum15\"].diff()\n",
    "\n",
    "MINUTE = \"all\"\n",
    "qh_parameters = {\n",
    "    \"system_imbalance_cum15\": {\n",
    "        \"lags\": [0],\n",
    "    },\n",
    "    \"diff_system_imbalance_cum15\": {\n",
    "        \"lags\": [0, -1, -2, -3, -4, -5, -95, -94, -93, -96, -671, -670, -669]},\n",
    "\n",
    "    \"total_load_last_mw\": {\n",
    "        \"lags\": [-1, -2, -3, -4]},\n",
    "    \"nrv_rt\": {\n",
    "        \"lags\": [-1, -2, -3, -4, -95, -671]},\n",
    "    \"load_rt_mw\": {\n",
    "        \"lags\": [-1, -2, -3, -4, -95, -671]},\n",
    "    \"wind_rt_mw\": {\n",
    "        \"lags\": [-1, -2, -3, -4]},\n",
    "}\n",
    "\n",
    "minute_parameters = {\n",
    "    \"system_imbalance\": {\n",
    "        \"lags\": [0, -1, -4]},\n",
    "\n",
    "    \"net_regulation_volume\": {\n",
    "        \"lags\": [0, -1, -2, -3, -4]},\n",
    "    \"rolling_15\": {\n",
    "        \"lags\": [0]},\n",
    "    \"rolling_60\": {\n",
    "        \"lags\": [0]},\n",
    "}\n",
    "\n",
    "# Prepare training dataframe:\n",
    "df = join_qh_min_data(\n",
    "    qh_data=qh,\n",
    "    minute_data=minute,\n",
    "    qh_parameters=qh_parameters,\n",
    "    minute_parameters=minute_parameters,\n",
    "    minute=MINUTE,\n",
    "    # ems_data=ems,\n",
    "    # ems_parameters=ems_parameters,\n",
    ")\n",
    "TARGET = \"diff_system_imbalance_cum15_current_qh\"\n",
    "FEATURES = [feature for feature in df.columns if feature != TARGET]\n",
    "FEATURES.remove(\"system_imbalance_cum15_current_qh\")\n",
    "\n",
    "df = df.dropna()\n",
    "\n",
    "# Set up splits and model features:\n",
    "tscv = TimeSeriesSplit(n_splits=52 * 7 // 4, max_train_size=15 * 4 * 24 * 7 * 20, test_size=15 * 4 * 24 * 4, gap=0)"
   ]
  },
  {
   "cell_type": "code",
   "execution_count": null,
   "metadata": {},
   "outputs": [
    {
     "name": "stdout",
     "output_type": "stream",
     "text": [
      "MODEL: LinearRegression\n",
      "Time configuration: 91 splits, 4 testing days, 20 training weeks. Total predicted time: 364 days.\n",
      "\n"
     ]
    },
    {
     "name": "stderr",
     "output_type": "stream",
     "text": [
      "100%|██████████| 91/91 [00:57<00:00,  1.57it/s]\n"
     ]
    },
    {
     "name": "stdout",
     "output_type": "stream",
     "text": [
      "\n",
      "Train set average error:\n",
      "MAE: 47.42MW | RMSE: 66.16MW\n",
      "Test set average error:\n",
      "MAE: 48.71MW | RMSE: 67.80MW | MASE: 0.2650 | P90 Error: 107.12MW | Max Error: 843.9 (2022-10-05 10:00:00+02:00)\n",
      "Time elapsed: 58.00s | Time per split: ~0.64s\n",
      "\n"
     ]
    }
   ],
   "source": [
    "# Cross-validation:\n",
    "results_linear = backtesting_CV(model=LinearRegression(n_jobs=-1),\n",
    "                                data=df,\n",
    "                                time_splits=tscv,\n",
    "                                features=FEATURES,\n",
    "                                target=TARGET,\n",
    "                                progress_bar=True,\n",
    "                                use_scaler=True,\n",
    "                                verbose=False)"
   ]
  },
  {
   "cell_type": "code",
   "execution_count": null,
   "metadata": {},
   "outputs": [
    {
     "name": "stdout",
     "output_type": "stream",
     "text": [
      "Total MAE: 48.76MW | Total RMSE: 67.88MW\n"
     ]
    }
   ],
   "source": [
    "y_pred = df[\"system_imbalance_cum15_current_qh\"].shift(15).loc[results_linear[0].index] + results_linear[0][\"y_pred\"]\n",
    "\n",
    "y_test = df[\"system_imbalance_cum15_current_qh\"].loc[results_linear[0].index]\n",
    "\n",
    "total_mae = mean_absolute_error(y_test, y_pred)\n",
    "total_rmse = mean_squared_error(y_test, y_pred, squared=False)\n",
    "print(f\"Total MAE: {total_mae:.2f}MW | Total RMSE: {total_rmse:.2f}MW\")"
   ]
  },
  {
   "attachments": {},
   "cell_type": "markdown",
   "metadata": {},
   "source": [
    "---\n",
    "\n",
    "## Predicting diff(2)"
   ]
  },
  {
   "cell_type": "code",
   "execution_count": null,
   "metadata": {},
   "outputs": [],
   "source": [
    "qh[\"diff_system_imbalance_cum15\"] = qh[\"system_imbalance_cum15\"].diff(2)\n",
    "\n",
    "MINUTE = \"all\"\n",
    "qh_parameters = {\n",
    "    \"system_imbalance_cum15\": {\n",
    "        \"lags\": [1]},\n",
    "    \"diff_system_imbalance_cum15\": {\n",
    "        \"lags\": [1, -1, -2, -3, -4, -5, -95, -94, -93, -96, -671, -670, -669]},\n",
    "\n",
    "    \"total_load_last_mw\": {\n",
    "        \"lags\": [-1, -2, -3, -4]},\n",
    "    \"nrv_rt\": {\n",
    "        \"lags\": [-1, -2, -3, -4, -95, -671]},\n",
    "    \"load_rt_mw\": {\n",
    "        \"lags\": [-1, -2, -3, -4, -95, -671]},\n",
    "    \"wind_rt_mw\": {\n",
    "        \"lags\": [-1, -2, -3, -4]},\n",
    "}\n",
    "\n",
    "minute_parameters = {\n",
    "    \"system_imbalance\": {\n",
    "        \"lags\": [0, -1, -4]},\n",
    "\n",
    "    \"net_regulation_volume\": {\n",
    "        \"lags\": [0, -1, -2, -3, -4]},\n",
    "    \"rolling_15\": {\n",
    "        \"lags\": [0]},\n",
    "    \"rolling_60\": {\n",
    "        \"lags\": [0]},\n",
    "}\n",
    "\n",
    "# Prepare training dataframe:\n",
    "df = join_qh_min_data(\n",
    "    qh_data=qh,\n",
    "    minute_data=minute,\n",
    "    qh_parameters=qh_parameters,\n",
    "    minute_parameters=minute_parameters,\n",
    "    minute=MINUTE,\n",
    "    # ems_data=ems,\n",
    "    # ems_parameters=ems_parameters,\n",
    ")\n",
    "TARGET = \"diff_system_imbalance_cum15_from_qh_plus_1\"\n",
    "FEATURES = [feature for feature in df.columns if feature != TARGET]\n",
    "FEATURES.remove(\"system_imbalance_cum15_from_qh_plus_1\")\n",
    "\n",
    "df = df.dropna()\n",
    "\n",
    "# Set up splits and model features:\n",
    "tscv = TimeSeriesSplit(n_splits=52 * 7 // 4, max_train_size=15 * 4 * 24 * 7 * 20, test_size=15 * 4 * 24 * 4, gap=0)"
   ]
  },
  {
   "cell_type": "code",
   "execution_count": null,
   "metadata": {},
   "outputs": [
    {
     "name": "stdout",
     "output_type": "stream",
     "text": [
      "MODEL: LinearRegression\n",
      "Time configuration: 91 splits, 4 testing days, 20 training weeks. Total predicted time: 364 days.\n",
      "\n"
     ]
    },
    {
     "name": "stderr",
     "output_type": "stream",
     "text": [
      "100%|██████████| 91/91 [01:10<00:00,  1.29it/s]"
     ]
    },
    {
     "name": "stdout",
     "output_type": "stream",
     "text": [
      "\n",
      "Train set average error:\n",
      "MAE: 104.58MW | RMSE: 139.44MW\n",
      "Test set average error:\n",
      "MAE: 107.53MW | RMSE: 143.39MW | MASE: 0.4116 | P90 Error: 227.89MW | Max Error: 1090.3 (2022-09-06 21:15:00+02:00)\n",
      "Time elapsed: 70.85s | Time per split: ~0.78s\n",
      "\n"
     ]
    },
    {
     "name": "stderr",
     "output_type": "stream",
     "text": [
      "\n"
     ]
    }
   ],
   "source": [
    "# Cross-validation:\n",
    "results_linear = backtesting_CV(model=LinearRegression(n_jobs=-1),\n",
    "                                data=df,\n",
    "                                time_splits=tscv,\n",
    "                                features=FEATURES,\n",
    "                                target=TARGET,\n",
    "                                progress_bar=True,\n",
    "                                use_scaler=True,\n",
    "                                verbose=False)"
   ]
  },
  {
   "cell_type": "code",
   "execution_count": null,
   "metadata": {},
   "outputs": [
    {
     "name": "stdout",
     "output_type": "stream",
     "text": [
      "Total MAE: 107.57MW | Total RMSE: 143.45MW\n"
     ]
    }
   ],
   "source": [
    "y_pred = df[\"system_imbalance_cum15_from_qh_plus_1\"].shift(30).loc[results_linear[0].index] + results_linear[0][\"y_pred\"]\n",
    "\n",
    "y_test = df[\"system_imbalance_cum15_from_qh_plus_1\"].loc[results_linear[0].index]\n",
    "\n",
    "total_mae = mean_absolute_error(y_test, y_pred)\n",
    "total_rmse = mean_squared_error(y_test, y_pred, squared=False)\n",
    "print(f\"Total MAE: {total_mae:.2f}MW | Total RMSE: {total_rmse:.2f}MW\")"
   ]
  }
 ],
 "metadata": {
  "kernelspec": {
   "display_name": "Python 3",
   "language": "python",
   "name": "python3"
  },
  "language_info": {
   "codemirror_mode": {
    "name": "ipython",
    "version": 3
   },
   "file_extension": ".py",
   "mimetype": "text/x-python",
   "name": "python",
   "nbconvert_exporter": "python",
   "pygments_lexer": "ipython3",
   "version": "3.11.4"
  },
  "orig_nbformat": 4
 },
 "nbformat": 4,
 "nbformat_minor": 2
}
