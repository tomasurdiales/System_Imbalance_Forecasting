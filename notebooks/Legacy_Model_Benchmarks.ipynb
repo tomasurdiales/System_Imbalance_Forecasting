{
 "cells": [
  {
   "attachments": {},
   "cell_type": "markdown",
   "metadata": {},
   "source": [
    "---\n",
    "\n",
    "# Legacy Linear Model: benchmarks\n",
    "\n",
    "By: Tomás Urdiales\n",
    "\n",
    "-> Notebook for benchmarking the legacy model (using updated pipeline and data). Also contains experiments with different cross-validation training and testing sizes.\n",
    "\n",
    "##### Libraries"
   ]
  },
  {
   "cell_type": "code",
   "execution_count": null,
   "metadata": {},
   "outputs": [],
   "source": [
    "# Change notebook CWD to the project's root, so python can read from src:\n",
    "import os\n",
    "os.chdir(\"..\")"
   ]
  },
  {
   "cell_type": "code",
   "execution_count": 3,
   "metadata": {},
   "outputs": [],
   "source": [
    "import numpy as np\n",
    "import pandas as pd\n",
    "import matplotlib.pyplot as plt\n",
    "\n",
    "from sklearn.model_selection import TimeSeriesSplit\n",
    "from sklearn.linear_model import LinearRegression\n",
    "\n",
    "from src import utils, my_plots\n",
    "from src.join_qh_min_data import join_qh_min_data\n",
    "from src.cross_validation import backtesting_CV"
   ]
  },
  {
   "cell_type": "markdown",
   "metadata": {},
   "source": [
    "##### Parameters"
   ]
  },
  {
   "cell_type": "code",
   "execution_count": 4,
   "metadata": {},
   "outputs": [],
   "source": [
    "# Get root directory:\n",
    "CWD = utils.get_root_dir()\n",
    "\n",
    "# To not use darts plotting style:\n",
    "plt.style.use('default')\n",
    "\n",
    "DPI = 150 # (pixel density for figures)\n",
    "ELIA_ORANGE = (250/256, 115/256, 1/256) # RGB"
   ]
  },
  {
   "attachments": {},
   "cell_type": "markdown",
   "metadata": {},
   "source": [
    "##### Load data"
   ]
  },
  {
   "cell_type": "code",
   "execution_count": 5,
   "metadata": {},
   "outputs": [],
   "source": [
    "qh = utils.load_qh_historical_data().loc[\"2021\":\"2022\"]\n",
    "minute = utils.load_min_historical_data().loc[\"2021\":\"2022\"]\n",
    "ems = utils.load_ems_historical_data().loc[\"2021\":\"2022\"]"
   ]
  },
  {
   "attachments": {},
   "cell_type": "markdown",
   "metadata": {},
   "source": [
    "---\n",
    "\n",
    "## Prepare training dataframe"
   ]
  },
  {
   "cell_type": "code",
   "execution_count": 4,
   "metadata": {},
   "outputs": [],
   "source": [
    "MINUTE = 3\n",
    "\n",
    "qh_parameters = {\n",
    "    \"system_imbalance_cum15\": {\n",
    "        \"lags\": [0]},\n",
    "    \"si_mw\": {\n",
    "        \"lags\": [-1, -2, -3, -4]},\n",
    "    \"load_id_mw\": {\n",
    "        \"lags\": [3, 2, 1, 0, -1, -2, -3, -4]},\n",
    "    \"nrv_rt\": {\n",
    "        \"lags\": [-1, -2, -3, -4]},\n",
    "}\n",
    "\n",
    "minute_parameters = {\n",
    "    \"system_imbalance\": {\n",
    "        \"lags\": [0, -1, -2, -3]},\n",
    "    \"net_regulation_volume\": {\n",
    "        \"lags\": [0, -1, -2, -3]},\n",
    "}"
   ]
  },
  {
   "cell_type": "code",
   "execution_count": 5,
   "metadata": {},
   "outputs": [
    {
     "name": "stdout",
     "output_type": "stream",
     "text": [
      "<class 'pandas.core.frame.DataFrame'>\n",
      "DatetimeIndex: 70037 entries, 2021-01-01 01:03:00+01:00 to 2022-12-31 23:03:00+01:00\n",
      "Columns: 25 entries, system_imbalance_cum15_current_qh to net_regulation_volume_from_minute_minus_3\n",
      "dtypes: float32(25)\n",
      "memory usage: 7.2 MB\n"
     ]
    }
   ],
   "source": [
    "df = join_qh_min_data(\n",
    "    qh_data=qh,\n",
    "    minute_data=minute,\n",
    "    qh_parameters=qh_parameters,\n",
    "    minute_parameters=minute_parameters,\n",
    "    minute=MINUTE,\n",
    "    ems_data=None,\n",
    "    ems_parameters=None,\n",
    ")\n",
    "\n",
    "df = df.dropna()\n",
    "\n",
    "df.info(memory_usage=\"deep\", verbose=False)"
   ]
  },
  {
   "attachments": {},
   "cell_type": "markdown",
   "metadata": {},
   "source": [
    "---\n",
    "\n",
    "## Linear Regression Model: current quarter hour"
   ]
  },
  {
   "cell_type": "code",
   "execution_count": 6,
   "metadata": {},
   "outputs": [],
   "source": [
    "# Set up splits and model features:\n",
    "tscv = TimeSeriesSplit(n_splits=52 * 7 // 4, max_train_size=4 * 24 * 7 * 8, test_size=4 * 24 * 4, gap=0)\n",
    "# This configuration covers one entire year (2022)\n",
    "\n",
    "TARGET = \"system_imbalance_cum15_current_qh\"\n",
    "FEATURES = [feature for feature in df.columns if feature != TARGET]"
   ]
  },
  {
   "cell_type": "code",
   "execution_count": 7,
   "metadata": {},
   "outputs": [
    {
     "name": "stdout",
     "output_type": "stream",
     "text": [
      "MODEL: LinearRegression\n",
      "Time configuration: 91 splits, 4 testing days, 8 training weeks. Total predicted time: 364 days.\n",
      "\n"
     ]
    },
    {
     "name": "stderr",
     "output_type": "stream",
     "text": [
      "100%|██████████| 91/91 [00:14<00:00,  6.29it/s]"
     ]
    },
    {
     "name": "stdout",
     "output_type": "stream",
     "text": [
      "\n",
      "Train set average error:\n",
      "MAE: 56.63MW | RMSE: 72.89MW\n",
      "Test set average error:\n",
      "MAE: 57.46MW | RMSE: 73.98MW | MASE: 0.4897 | P90 Error: 119.91MW | Max Error: 513.3 (2022-02-19 10:03:00+01:00)\n",
      "Time elapsed: 14.51s | Time per split: ~0.16s\n",
      "\n"
     ]
    },
    {
     "name": "stderr",
     "output_type": "stream",
     "text": [
      "\n"
     ]
    }
   ],
   "source": [
    "# Adjust linear model settings:\n",
    "model_linear = LinearRegression()\n",
    "\n",
    "# Cross-validation:\n",
    "results_linear = backtesting_CV(model=model_linear,\n",
    "                                data=df,\n",
    "                                time_splits=tscv,\n",
    "                                features=FEATURES,\n",
    "                                target=TARGET,\n",
    "                                progress_bar=True,\n",
    "                                verbose=False)"
   ]
  },
  {
   "attachments": {},
   "cell_type": "markdown",
   "metadata": {},
   "source": [
    "---\n",
    "\n",
    "## Linear Regression Model: next quarter hour"
   ]
  },
  {
   "cell_type": "code",
   "execution_count": 8,
   "metadata": {},
   "outputs": [
    {
     "name": "stdout",
     "output_type": "stream",
     "text": [
      "<class 'pandas.core.frame.DataFrame'>\n",
      "DatetimeIndex: 70026 entries, 2021-01-01 01:03:00+01:00 to 2022-12-31 23:03:00+01:00\n",
      "Columns: 25 entries, system_imbalance_cum15_from_qh_plus_1 to net_regulation_volume_from_minute_minus_3\n",
      "dtypes: float32(25)\n",
      "memory usage: 7.2 MB\n"
     ]
    }
   ],
   "source": [
    "qh_parameters = {\n",
    "    \"system_imbalance_cum15\": {\n",
    "        \"lags\": [1]},\n",
    "    \"si_mw\": {\n",
    "        \"lags\": [-1, -2, -3, -4]},\n",
    "    \"load_id_mw\": {\n",
    "        \"lags\": [3, 2, 1, 0, -1, -2, -3, -4]},\n",
    "    \"nrv_rt\": {\n",
    "        \"lags\": [-1, -2, -3, -4]},\n",
    "}\n",
    "\n",
    "minute_parameters = {\n",
    "    \"system_imbalance\": {\n",
    "        \"lags\": [0, -1, -2, -3]},\n",
    "    \"net_regulation_volume\": {\n",
    "        \"lags\": [0, -1, -2, -3]},\n",
    "}\n",
    "\n",
    "df = join_qh_min_data(\n",
    "    qh_data=qh,\n",
    "    minute_data=minute,\n",
    "    qh_parameters=qh_parameters,\n",
    "    minute_parameters=minute_parameters,\n",
    "    minute=MINUTE,\n",
    "    ems_data=None,\n",
    "    ems_parameters=None,\n",
    ")\n",
    "\n",
    "df = df.dropna()\n",
    "\n",
    "df.info(memory_usage=\"deep\", verbose=False)"
   ]
  },
  {
   "cell_type": "code",
   "execution_count": 9,
   "metadata": {},
   "outputs": [],
   "source": [
    "# Set up splits and model features:\n",
    "tscv = TimeSeriesSplit(n_splits=52 * 7 // 4, max_train_size=4 * 24 * 7 * 8, test_size=4 * 24 * 4, gap=0)\n",
    "# This configuration covers one entire year (2022)\n",
    "\n",
    "TARGET = \"system_imbalance_cum15_from_qh_plus_1\"\n",
    "FEATURES = [feature for feature in df.columns if feature != TARGET]"
   ]
  },
  {
   "cell_type": "code",
   "execution_count": 10,
   "metadata": {},
   "outputs": [
    {
     "name": "stdout",
     "output_type": "stream",
     "text": [
      "MODEL: LinearRegression\n",
      "Time configuration: 91 splits, 4 testing days, 8 training weeks. Total predicted time: 364 days.\n",
      "\n"
     ]
    },
    {
     "name": "stderr",
     "output_type": "stream",
     "text": [
      "100%|██████████| 91/91 [00:15<00:00,  6.02it/s]"
     ]
    },
    {
     "name": "stdout",
     "output_type": "stream",
     "text": [
      "\n",
      "Train set average error:\n",
      "MAE: 110.50MW | RMSE: 146.84MW\n",
      "Test set average error:\n",
      "MAE: 111.99MW | RMSE: 148.95MW | MASE: 0.7471 | P90 Error: 237.22MW | Max Error: 1089.3 (2022-09-06 21:18:00+02:00)\n",
      "Time elapsed: 15.12s | Time per split: ~0.17s\n",
      "\n"
     ]
    },
    {
     "name": "stderr",
     "output_type": "stream",
     "text": [
      "\n"
     ]
    }
   ],
   "source": [
    "# Adjust linear model settings:\n",
    "model_linear = LinearRegression()\n",
    "\n",
    "# Cross-validation:\n",
    "results_linear = backtesting_CV(model=model_linear,\n",
    "                                data=df,\n",
    "                                time_splits=tscv,\n",
    "                                features=FEATURES,\n",
    "                                target=TARGET,\n",
    "                                progress_bar=True,\n",
    "                                verbose=False)"
   ]
  },
  {
   "attachments": {},
   "cell_type": "markdown",
   "metadata": {},
   "source": [
    "---\n",
    "\n",
    "## Experimenting with training set size"
   ]
  },
  {
   "cell_type": "code",
   "execution_count": 11,
   "metadata": {},
   "outputs": [
    {
     "name": "stdout",
     "output_type": "stream",
     "text": [
      "MODEL: LinearRegression\n",
      "Time configuration: 52 splits, 7 testing days, 12 training weeks. Total predicted time: 364 days.\n",
      "\n"
     ]
    },
    {
     "name": "stderr",
     "output_type": "stream",
     "text": [
      "100%|██████████| 52/52 [00:10<00:00,  4.89it/s]"
     ]
    },
    {
     "name": "stdout",
     "output_type": "stream",
     "text": [
      "\n",
      "Train set average error:\n",
      "MAE: 110.13MW | RMSE: 146.37MW\n",
      "Test set average error:\n",
      "MAE: 112.14MW | RMSE: 149.03MW | MASE: 0.7480 | P90 Error: 237.90MW | Max Error: 1085.9 (2022-09-06 21:18:00+02:00)\n",
      "Time elapsed: 10.64s | Time per split: ~0.20s\n",
      "\n"
     ]
    },
    {
     "name": "stderr",
     "output_type": "stream",
     "text": [
      "\n"
     ]
    }
   ],
   "source": [
    "# Use much more training data (12 WEEKS):\n",
    "tscv = TimeSeriesSplit(n_splits=52, max_train_size=4 * 24 * 7 * 12, test_size=4 * 24 * 7, gap=0)\n",
    "\n",
    "# Test it:\n",
    "model_linear = LinearRegression()\n",
    "results_linear = backtesting_CV(model=model_linear,\n",
    "                                data=df,\n",
    "                                time_splits=tscv,\n",
    "                                features=FEATURES,\n",
    "                                target=TARGET,\n",
    "                                progress_bar=True,\n",
    "                                verbose=False)"
   ]
  },
  {
   "cell_type": "code",
   "execution_count": 12,
   "metadata": {},
   "outputs": [
    {
     "name": "stdout",
     "output_type": "stream",
     "text": [
      "MODEL: LinearRegression\n",
      "Time configuration: 52 splits, 7 testing days, 1 training weeks. Total predicted time: 364 days.\n",
      "\n"
     ]
    },
    {
     "name": "stderr",
     "output_type": "stream",
     "text": [
      "100%|██████████| 52/52 [00:08<00:00,  5.91it/s]"
     ]
    },
    {
     "name": "stdout",
     "output_type": "stream",
     "text": [
      "\n",
      "Train set average error:\n",
      "MAE: 108.41MW | RMSE: 143.38MW\n",
      "Test set average error:\n",
      "MAE: 114.90MW | RMSE: 152.71MW | MASE: 0.7665 | P90 Error: 243.62MW | Max Error: 1127.0 (2022-06-19 07:03:00+02:00)\n",
      "Time elapsed: 8.81s | Time per split: ~0.17s\n",
      "\n"
     ]
    },
    {
     "name": "stderr",
     "output_type": "stream",
     "text": [
      "\n"
     ]
    }
   ],
   "source": [
    "# Use much less data (1 WEEK):\n",
    "tscv = TimeSeriesSplit(n_splits=52, max_train_size=4 * 24 * 7 * 1, test_size=4 * 24 * 7, gap=0)\n",
    "\n",
    "# Test it:\n",
    "model_linear = LinearRegression()\n",
    "results_linear = backtesting_CV(model=model_linear,\n",
    "                                data=df,\n",
    "                                time_splits=tscv,\n",
    "                                features=FEATURES,\n",
    "                                target=TARGET,\n",
    "                                progress_bar=True,\n",
    "                                verbose=False)"
   ]
  },
  {
   "attachments": {},
   "cell_type": "markdown",
   "metadata": {},
   "source": [
    "---\n",
    "\n",
    "## Experimenting with different testing size"
   ]
  },
  {
   "cell_type": "code",
   "execution_count": 13,
   "metadata": {},
   "outputs": [
    {
     "name": "stdout",
     "output_type": "stream",
     "text": [
      "MODEL: LinearRegression\n",
      "Time configuration: 364 splits, 1 testing days, 4 training weeks. Total predicted time: 364 days.\n",
      "\n"
     ]
    },
    {
     "name": "stderr",
     "output_type": "stream",
     "text": [
      "100%|██████████| 364/364 [00:53<00:00,  6.75it/s]"
     ]
    },
    {
     "name": "stdout",
     "output_type": "stream",
     "text": [
      "\n",
      "Train set average error:\n",
      "MAE: 110.12MW | RMSE: 146.25MW\n",
      "Test set average error:\n",
      "MAE: 112.02MW | RMSE: 148.96MW | MASE: 0.7473 | P90 Error: 237.32MW | Max Error: 1091.7 (2022-09-06 21:18:00+02:00)\n",
      "Time elapsed: 53.91s | Time per split: ~0.15s\n",
      "\n"
     ]
    },
    {
     "name": "stderr",
     "output_type": "stream",
     "text": [
      "\n"
     ]
    }
   ],
   "source": [
    "# Use much SHORTER test window:\n",
    "tscv = TimeSeriesSplit(n_splits=52 * 7, max_train_size=4 * 24 * 7 * 4, test_size=4 * 24, gap=0)\n",
    "\n",
    "# Test it:\n",
    "model_linear = LinearRegression()\n",
    "results_linear = backtesting_CV(model=model_linear,\n",
    "                                data=df,\n",
    "                                time_splits=tscv,\n",
    "                                features=FEATURES,\n",
    "                                target=TARGET,\n",
    "                                progress_bar=True,\n",
    "                                verbose=False)\n"
   ]
  },
  {
   "cell_type": "code",
   "execution_count": 14,
   "metadata": {},
   "outputs": [
    {
     "name": "stdout",
     "output_type": "stream",
     "text": [
      "MODEL: LinearRegression\n",
      "Time configuration: 13 splits, 28 testing days, 4 training weeks. Total predicted time: 364 days.\n",
      "\n"
     ]
    },
    {
     "name": "stderr",
     "output_type": "stream",
     "text": [
      "100%|██████████| 13/13 [00:02<00:00,  5.22it/s]"
     ]
    },
    {
     "name": "stdout",
     "output_type": "stream",
     "text": [
      "\n",
      "Train set average error:\n",
      "MAE: 110.10MW | RMSE: 146.09MW\n",
      "Test set average error:\n",
      "MAE: 112.72MW | RMSE: 149.91MW | MASE: 0.7519 | P90 Error: 238.57MW | Max Error: 1091.6 (2022-09-06 21:18:00+02:00)\n",
      "Time elapsed: 2.50s | Time per split: ~0.19s\n",
      "\n"
     ]
    },
    {
     "name": "stderr",
     "output_type": "stream",
     "text": [
      "\n"
     ]
    }
   ],
   "source": [
    "# Use much LONGER test window:\n",
    "tscv = TimeSeriesSplit(n_splits=52 // 4, max_train_size=4 * 24 * 7 * 4, test_size=4 * 24 * 7 * 4, gap=0)\n",
    "\n",
    "# Test it:\n",
    "model_linear = LinearRegression()\n",
    "results_linear = backtesting_CV(model=model_linear,\n",
    "                                data=df,\n",
    "                                time_splits=tscv,\n",
    "                                features=FEATURES,\n",
    "                                target=TARGET,\n",
    "                                progress_bar=True,\n",
    "                                verbose=False)\n"
   ]
  },
  {
   "attachments": {},
   "cell_type": "markdown",
   "metadata": {},
   "source": [
    "---\n",
    "\n",
    "## Best so far"
   ]
  },
  {
   "cell_type": "code",
   "execution_count": 16,
   "metadata": {},
   "outputs": [
    {
     "name": "stdout",
     "output_type": "stream",
     "text": [
      "MODEL: LinearRegression\n",
      "Time configuration: 91 splits, 4 testing days, 8 training weeks. Total predicted time: 364 days.\n",
      "\n"
     ]
    },
    {
     "name": "stderr",
     "output_type": "stream",
     "text": [
      "100%|██████████| 91/91 [00:28<00:00,  3.20it/s]"
     ]
    },
    {
     "name": "stdout",
     "output_type": "stream",
     "text": [
      "\n",
      "Train set average error:\n",
      "MAE: 108.27MW | RMSE: 144.08MW\n",
      "Test set average error:\n",
      "MAE: 109.83MW | RMSE: 146.51MW | MASE: 0.7326 | P90 Error: 232.11MW | Max Error: 1062.4 (2022-09-06 21:18:00+02:00)\n",
      "Time elapsed: 28.45s | Time per split: ~0.31s\n",
      "\n"
     ]
    },
    {
     "name": "stderr",
     "output_type": "stream",
     "text": [
      "\n"
     ]
    }
   ],
   "source": [
    "MINUTE = 3\n",
    "\n",
    "qh_parameters = {\n",
    "    \"system_imbalance_cum15\": {\n",
    "        \"lags\": [1, -1, -2, -3, -5, -95, -671]},\n",
    "\n",
    "    \"total_load_last_mw\": {\n",
    "        \"lags\": [3, 2, 1, 0, -1, -2, -3, -4]},\n",
    "\n",
    "    \"nrv_rt\": {\n",
    "        \"lags\": [-1, -2, -3, -4]},\n",
    "    \"load_rt_mw\": {\n",
    "        \"lags\": [-1, -2, -3, -4]},\n",
    "    \"wind_rt_mw\": {\n",
    "        \"lags\": [-1, -2, -3, -4]},\n",
    "}\n",
    "\n",
    "\n",
    "minute_parameters = {\n",
    "    \"system_imbalance\": {\n",
    "        \"lags\": [0, -1, -4]},\n",
    "    \"net_regulation_volume\": {\n",
    "        \"lags\": [0, -1, -2, -3]},\n",
    "}\n",
    "\n",
    "# Prepare training dataframe:\n",
    "df = join_qh_min_data(\n",
    "    qh_data=qh,\n",
    "    minute_data=minute,\n",
    "    qh_parameters=qh_parameters,\n",
    "    minute_parameters=minute_parameters,\n",
    "    minute=MINUTE,\n",
    "    # ems_data=ems,\n",
    "    # ems_parameters=ems_parameters,\n",
    ")\n",
    "TARGET = \"system_imbalance_cum15_from_qh_plus_1\"\n",
    "FEATURES = [feature for feature in df.columns if feature != TARGET]\n",
    "\n",
    "df = df.dropna()\n",
    "\n",
    "# Set up splits and model features:\n",
    "tscv = TimeSeriesSplit(n_splits=52 * 7 // 4, max_train_size=4 * 24 * 7 * 8, test_size=4 * 24 * 4, gap=0)\n",
    "\n",
    "# Cross-validation:\n",
    "results_linear = backtesting_CV(model=LinearRegression(),\n",
    "                                data=df,\n",
    "                                time_splits=tscv,\n",
    "                                features=FEATURES,\n",
    "                                target=TARGET,\n",
    "                                progress_bar=True,\n",
    "                                verbose=False)"
   ]
  }
 ],
 "metadata": {
  "kernelspec": {
   "display_name": "Python 3.10.10 64-bit",
   "language": "python",
   "name": "python3"
  },
  "language_info": {
   "codemirror_mode": {
    "name": "ipython",
    "version": 3
   },
   "file_extension": ".py",
   "mimetype": "text/x-python",
   "name": "python",
   "nbconvert_exporter": "python",
   "pygments_lexer": "ipython3",
   "version": "3.10.11"
  },
  "orig_nbformat": 4,
  "vscode": {
   "interpreter": {
    "hash": "bd385fe162c5ca0c84973b7dd5c518456272446b2b64e67c2a69f949ca7a1754"
   }
  }
 },
 "nbformat": 4,
 "nbformat_minor": 2
}
