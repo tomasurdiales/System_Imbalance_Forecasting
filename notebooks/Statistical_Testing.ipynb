{
 "cells": [
  {
   "attachments": {},
   "cell_type": "markdown",
   "metadata": {},
   "source": [
    "---\n",
    "\n",
    "# Statistical Testing\n",
    "\n",
    "By: Tomás Urdiales\n",
    "\n",
    "-> Notebook for running relevant statistical tests on the target time-series and on forecast residuals.\n",
    "\n",
    "##### Libraries"
   ]
  },
  {
   "cell_type": "code",
   "execution_count": null,
   "metadata": {},
   "outputs": [],
   "source": [
    "# Change notebook CWD to the project's root, so python can read from src:\n",
    "import os\n",
    "os.chdir(\"..\")"
   ]
  },
  {
   "cell_type": "code",
   "execution_count": 1,
   "metadata": {},
   "outputs": [],
   "source": [
    "import numpy as np\n",
    "import pandas as pd\n",
    "import matplotlib.pyplot as plt\n",
    "\n",
    "from sklearn.model_selection import TimeSeriesSplit\n",
    "\n",
    "from sklearn.pipeline import make_pipeline\n",
    "from sklearn.preprocessing import StandardScaler\n",
    "from sklearn.linear_model import LinearRegression, Ridge\n",
    "\n",
    "from sklearn.metrics import mean_absolute_error, mean_squared_error\n",
    "\n",
    "from src import utils, my_plots\n",
    "from src.cross_validation import backtesting_CV\n",
    "from src.join_qh_min_data import join_qh_min_data"
   ]
  },
  {
   "attachments": {},
   "cell_type": "markdown",
   "metadata": {},
   "source": [
    "##### Parameters"
   ]
  },
  {
   "cell_type": "code",
   "execution_count": 2,
   "metadata": {},
   "outputs": [],
   "source": [
    "CWD = utils.get_root_dir()\n",
    "\n",
    "# To not use darts plotting style:\n",
    "plt.style.use('default')\n",
    "\n",
    "DPI = 150 # (pixel density for figures)\n",
    "ELIA_ORANGE = (250/256, 115/256, 1/256) # RGB"
   ]
  },
  {
   "attachments": {},
   "cell_type": "markdown",
   "metadata": {},
   "source": [
    "##### Load data"
   ]
  },
  {
   "cell_type": "code",
   "execution_count": 3,
   "metadata": {},
   "outputs": [],
   "source": [
    "qh = utils.load_qh_historical_data().loc[\"2021\":\"2022\"]\n",
    "minute = utils.load_min_historical_data().loc[\"2021\":\"2022\"]\n",
    "ems = utils.load_ems_historical_data().loc[\"2021\":\"2022\"]\n",
    "xb = utils.load_xb_historical_data().loc[\"2021\":\"2022\"]\n",
    "\n",
    "# Additional features:\n",
    "ems.insert(1, \"elia_sum_prod_mw_cm-value-diff\", ems[\"elia_sum_prod_mw_cm-value\"].diff())\n",
    "minute[\"rolling_15\"] = minute[\"system_imbalance\"].rolling(window=15, center=False).mean()\n",
    "minute[\"rolling_60\"] = minute[\"system_imbalance\"].rolling(window=60, center=False).mean()\n",
    "\n",
    "# Add in XB data:\n",
    "qh = qh.assign(xb_day_ahead = xb[\"xb_day_ahead\"])\n",
    "qh = qh.assign(xb_intraday = xb[\"xb_intraday\"])\n",
    "qh = qh.assign(xb_grand_total = xb[\"xb_grand_total\"])\n",
    "qh = qh.assign(xb_physical_accounting_net_import_mw = xb[\"xb_physical_accounting_net_import_mw\"])"
   ]
  },
  {
   "attachments": {},
   "cell_type": "markdown",
   "metadata": {},
   "source": [
    "---\n",
    "\n",
    "## Set up data matrix"
   ]
  },
  {
   "cell_type": "code",
   "execution_count": 4,
   "metadata": {},
   "outputs": [],
   "source": [
    "MINUTE = \"all\"\n",
    "\n",
    "qh_parameters = {\n",
    "    \"system_imbalance_cum15\": {\n",
    "        \"lags\": [1, -1, -2, -3, -4, -5, -95, -94, -93, -96, -671, -670, -669]},\n",
    "\n",
    "    \"xb_day_ahead\": {\n",
    "        \"lags\": [5, 1, 0, -4]},\n",
    "    \"xb_intraday\": {\n",
    "        \"lags\": [5, 1, 0, -4]},\n",
    "    \"xb_grand_total\": {\n",
    "        \"lags\": [5, 1, 0, -4]},\n",
    "    \"xb_physical_accounting_net_import_mw\": {\n",
    "        \"lags\": [-1, -2, -3, -4]},\n",
    "\n",
    "    \"total_load_last_mw\": {\n",
    "        \"lags\": [3, 2, 1, 0, -1, -2, -3, -4]},\n",
    "\n",
    "    \"nrv_rt\": {\n",
    "        \"lags\": [-1, -2, -3, -4, -95, -671]},\n",
    "    \"load_rt_mw\": {\n",
    "        \"lags\": [-1, -2, -3, -4, -95, -671]},\n",
    "    \"wind_rt_mw\": {\n",
    "        \"lags\": [-1, -2, -3, -4]},\n",
    "}\n",
    "\n",
    "minute_parameters = {\n",
    "    \"system_imbalance\": {\n",
    "        \"lags\": [0, -1, -4]},\n",
    "\n",
    "    \"net_regulation_volume\": {\n",
    "        \"lags\": [0, -1, -2, -3, -4]},\n",
    "    \"rolling_15\": {\n",
    "        \"lags\": [0]},\n",
    "    \"rolling_60\": {\n",
    "        \"lags\": [0]},\n",
    "}\n",
    "\n",
    "# Prepare training dataframe:\n",
    "df = join_qh_min_data(\n",
    "    qh_data=qh,\n",
    "    minute_data=minute,\n",
    "    qh_parameters=qh_parameters,\n",
    "    minute_parameters=minute_parameters,\n",
    "    minute=MINUTE,\n",
    "    # ems_data=ems,\n",
    "    # ems_parameters=ems_parameters,\n",
    ")\n",
    "TARGET = \"system_imbalance_cum15_from_qh_plus_1\"\n",
    "FEATURES = [feature for feature in df.columns if feature != TARGET]\n",
    "\n",
    "df = df.dropna()\n",
    "\n",
    "# Set up splits and model features:\n",
    "tscv = TimeSeriesSplit(\n",
    "    n_splits=52 * 7 // 4,\n",
    "    max_train_size=4 * 24 * 7 * 20,\n",
    "    test_size=4 * 24 * 4,\n",
    "    gap=0\n",
    ")"
   ]
  },
  {
   "attachments": {},
   "cell_type": "markdown",
   "metadata": {},
   "source": [
    "---\n",
    "\n",
    "## Analysing residuals"
   ]
  },
  {
   "cell_type": "code",
   "execution_count": 10,
   "metadata": {},
   "outputs": [],
   "source": [
    "from sklearn.linear_model import Ridge\n",
    "model_ridge = Ridge(\n",
    "    alpha=0.5,\n",
    "    tol=1e-4,\n",
    "    max_iter=1000,\n",
    "    solver=\"auto\",\n",
    ")\n",
    "\n",
    "# Choose model to fit:\n",
    "# model_pipeline = make_pipeline(StandardScaler(), LinearRegression(n_jobs=-1))\n",
    "model_pipeline = make_pipeline(StandardScaler(), model_ridge)\n",
    "\n",
    "full_fit = model_pipeline.fit(df[FEATURES].loc[\"2022\"], df[TARGET].loc[\"2022\"])\n",
    "residuals = df[TARGET].loc[\"2022\"] - full_fit.predict(df[FEATURES].loc[\"2022\"])"
   ]
  },
  {
   "cell_type": "code",
   "execution_count": 11,
   "metadata": {},
   "outputs": [
    {
     "name": "stdout",
     "output_type": "stream",
     "text": [
      "Total MAE: 102.47MW | Total RMSE: 135.36MW\n"
     ]
    }
   ],
   "source": [
    "total_mae = mean_absolute_error(df[TARGET].loc[\"2022\"], full_fit.predict(df[FEATURES].loc[\"2022\"]))\n",
    "\n",
    "total_rmse = np.sqrt(mean_squared_error(df[TARGET].loc[\"2022\"], full_fit.predict(df[FEATURES].loc[\"2022\"])))\n",
    "print(f\"Total MAE: {total_mae:.2f}MW | Total RMSE: {total_rmse:.2f}MW\")"
   ]
  },
  {
   "cell_type": "code",
   "execution_count": 12,
   "metadata": {},
   "outputs": [
    {
     "name": "stdout",
     "output_type": "stream",
     "text": [
      "count    3.492600e+04\n",
      "mean     1.647069e-14\n",
      "std      1.353603e+02\n",
      "min     -9.867842e+02\n",
      "25%     -8.000361e+01\n",
      "50%      3.279694e+00\n",
      "75%      8.122045e+01\n",
      "max      9.751010e+02\n",
      "Name: system_imbalance_cum15_from_qh_plus_1, dtype: float64\n",
      "\n",
      "The residuals have zero mean, so the forecasts are unbiased ✅\n",
      "Residuals are not a perfect Gaussian distribution around zero, but close.\n"
     ]
    },
    {
     "data": {
      "image/png": "[encoded data removed]",
      "text/plain": [
       "<Figure size 640x480 with 1 Axes>"
      ]
     },
     "metadata": {},
     "output_type": "display_data"
    }
   ],
   "source": [
    "print(residuals.describe())\n",
    "print(\"\\nThe residuals have zero mean, so the forecasts are unbiased ✅\")\n",
    "\n",
    "# residuals.hist(bins=np.linspace(-500, 500, 41));\n",
    "residuals.hist(bins=np.linspace(-500, 500, 21));\n",
    "# residuals.hist(bins=np.linspace(-500, 500, 9));\n",
    "print(\"Residuals are not a perfect Gaussian distribution around zero, but close.\")"
   ]
  },
  {
   "cell_type": "code",
   "execution_count": 8,
   "metadata": {},
   "outputs": [
    {
     "data": {
      "image/png": "[encoded data removed]",
      "text/plain": [
       "<Figure size 1500x1050 with 1 Axes>"
      ]
     },
     "metadata": {},
     "output_type": "display_data"
    }
   ],
   "source": [
    "import statsmodels.api as sm\n",
    "\n",
    "fig, ax = plt.subplots(figsize=(10, 7), dpi=DPI)\n",
    "sm.graphics.tsa.plot_acf(residuals, alpha=.05, lags=80,\n",
    "                         ax=ax, title=\"ACF of residuals for all minutes of qh\")\n",
    "plt.ylim([-0.2,1.1])\n",
    "plt.xlabel('Lag [min]')\n",
    "plt.grid()\n",
    "plt.show()"
   ]
  },
  {
   "cell_type": "code",
   "execution_count": 13,
   "metadata": {},
   "outputs": [
    {
     "data": {
      "image/png": "[encoded data removed]",
      "text/plain": [
       "<Figure size 1500x1050 with 1 Axes>"
      ]
     },
     "metadata": {},
     "output_type": "display_data"
    }
   ],
   "source": [
    "import statsmodels.api as sm\n",
    "\n",
    "fig, ax = plt.subplots(figsize=(10, 7), dpi=DPI)\n",
    "sm.graphics.tsa.plot_acf(residuals, alpha=.05, lags=80,\n",
    "                         ax=ax, title=\"ACF of residuals for only one minute of qh\")\n",
    "plt.ylim([-0.2,1.1])\n",
    "plt.xlabel('Lag [qh]')\n",
    "plt.grid()\n",
    "plt.show()"
   ]
  },
  {
   "attachments": {},
   "cell_type": "markdown",
   "metadata": {},
   "source": [
    "---\n",
    "\n",
    "## Augmented Dickey-Fuller test"
   ]
  },
  {
   "cell_type": "code",
   "execution_count": 5,
   "metadata": {},
   "outputs": [
    {
     "name": "stdout",
     "output_type": "stream",
     "text": [
      "ADF Statistic: -25.675932\n",
      "p-value: 0.000000\n",
      "Critical Values:\n",
      "\t1%: -3.959\n",
      "\t5%: -3.411\n",
      "\t10%: -3.127\n",
      "\n",
      "We reject the null hypothesis!\n",
      "Thus, the time-series is most probably stationary\n",
      "*The strongly negative ADF statistic suggests that we can reject the null hypothesis with a significance level of less than 1% (i.e. a low probability that the result is a statistical fluke).\n"
     ]
    }
   ],
   "source": [
    "# On all historical records of system_imbalance_cum15:\n",
    "from statsmodels.tsa.stattools import adfuller\n",
    "\n",
    "ADF = adfuller(\n",
    "    x=qh[\"system_imbalance_cum15\"].dropna(),\n",
    "    regression=\"ct\",\n",
    "    autolag=\"AIC\",\n",
    ")\n",
    "\n",
    "print(\"ADF Statistic: %f\" % ADF[0])\n",
    "print(\"p-value: %f\" % ADF[1])\n",
    "print(\"Critical Values:\")\n",
    "for key, value in ADF[4].items():\n",
    "    print(\"\\t%s: %.3f\" % (key, value))\n",
    "\n",
    "print(\"\\nWe reject the null hypothesis!\\nThus, the time-series is most probably stationary\")\n",
    "print(\"*The strongly negative ADF statistic suggests that we can reject the null hypothesis with a significance level of less than 1% (i.e. a low probability that the result is a statistical fluke).\")"
   ]
  },
  {
   "cell_type": "code",
   "execution_count": 7,
   "metadata": {},
   "outputs": [
    {
     "name": "stdout",
     "output_type": "stream",
     "text": [
      "ADF Statistic: -25.867955\n",
      "p-value: 0.000000\n",
      "Critical Values:\n",
      "\t1%: -3.959\n",
      "\t5%: -3.411\n",
      "\t10%: -3.127\n",
      "\n",
      "We reject the null hypothesis!\n",
      "Thus, the time-series is most probably stationary.\n",
      "*The strongly negative ADF statistic suggests that we can reject the null hypothesis with a significance level of less than 1% (i.e. a low probability that the result is a statistical fluke).\n"
     ]
    }
   ],
   "source": [
    "# On all historical records of si_MW:\n",
    "from statsmodels.tsa.stattools import adfuller\n",
    "\n",
    "ADF = adfuller(\n",
    "    x=qh[\"si_mw\"],\n",
    "    regression=\"ct\",\n",
    "    autolag=\"AIC\",\n",
    ")\n",
    "\n",
    "print(\"ADF Statistic: %f\" % ADF[0])\n",
    "print(\"p-value: %f\" % ADF[1])\n",
    "print(\"Critical Values:\")\n",
    "for key, value in ADF[4].items():\n",
    "    print(\"\\t%s: %.3f\" % (key, value))\n",
    "\n",
    "print(\"\\nWe reject the null hypothesis!\\nThus, the time-series is most probably stationary.\")\n",
    "print(\"*The strongly negative ADF statistic suggests that we can reject the null hypothesis with a significance level of less than 1% (i.e. a low probability that the result is a statistical fluke).\")"
   ]
  },
  {
   "cell_type": "code",
   "execution_count": null,
   "metadata": {},
   "outputs": [
    {
     "name": "stdout",
     "output_type": "stream",
     "text": [
      "ADF Statistic: -47.296631\n",
      "p-value: 0.000000\n",
      "Critical Values:\n",
      "\t1%: -3.959\n",
      "\t5%: -3.410\n",
      "\t10%: -3.127\n",
      "\n",
      "We reject the null hypothesis!\n",
      "Thus, the time-series is most probably stationary.\n",
      "*The strongly negative ADF statistic suggests that we can reject the null hypothesis with a significance level of less than 1% (i.e. a low probability that the result is a statistical fluke).\n"
     ]
    }
   ],
   "source": [
    "# On minute-wise SI:\n",
    "from statsmodels.tsa.stattools import adfuller\n",
    "\n",
    "ADF = adfuller(\n",
    "    x=minute[\"system_imbalance\"].loc[\"2022\"].dropna(),\n",
    "    regression=\"ct\",\n",
    "    autolag=\"AIC\",\n",
    ")\n",
    "\n",
    "print(\"ADF Statistic: %f\" % ADF[0])\n",
    "print(\"p-value: %f\" % ADF[1])\n",
    "print(\"Critical Values:\")\n",
    "for key, value in ADF[4].items():\n",
    "    print(\"\\t%s: %.3f\" % (key, value))\n",
    "\n",
    "print(\"\\nWe reject the null hypothesis!\\nThus, the time-series is most probably stationary.\")\n",
    "print(\"*The strongly negative ADF statistic suggests that we can reject the null hypothesis with a significance level of less than 1% (i.e. a low probability that the result is a statistical fluke).\")"
   ]
  },
  {
   "cell_type": "code",
   "execution_count": null,
   "metadata": {},
   "outputs": [
    {
     "name": "stdout",
     "output_type": "stream",
     "text": [
      "ADF Statistic: -67.417540\n",
      "p-value: 0.000000\n",
      "Critical Values:\n",
      "\t1%: -3.959\n",
      "\t5%: -3.410\n",
      "\t10%: -3.127\n"
     ]
    }
   ],
   "source": [
    "# On residuals:\n",
    "from statsmodels.tsa.stattools import adfuller\n",
    "\n",
    "ADF = adfuller(\n",
    "    x=residuals,\n",
    "    regression=\"ct\",\n",
    "    autolag=\"AIC\",\n",
    ")\n",
    "\n",
    "print(\"ADF Statistic: %f\" % ADF[0])\n",
    "print(\"p-value: %f\" % ADF[1])\n",
    "print(\"Critical Values:\")\n",
    "for key, value in ADF[4].items():\n",
    "    print(\"\\t%s: %.3f\" % (key, value))"
   ]
  },
  {
   "attachments": {},
   "cell_type": "markdown",
   "metadata": {},
   "source": [
    "---\n",
    "\n",
    "## Diebold-Mariano test"
   ]
  },
  {
   "cell_type": "code",
   "execution_count": 4,
   "metadata": {},
   "outputs": [],
   "source": [
    "from scipy.stats import t\n",
    "\n",
    "def DM_test(\n",
    "    y_test: pd.Series,\n",
    "    y_pred_1: pd.Series,\n",
    "    y_pred_2: pd.Series,\n",
    "    h: int = 1,\n",
    "    harvey_adj: bool = True):\n",
    "    \"\"\"\n",
    "    -> Performs the Diebold-Mariano test to check for statistical significance in difference between two forecasts.\n",
    "\n",
    "    Arguments:\n",
    "        y_test -> real forecasted time-series\n",
    "        y_pred_1 -> first forecast to compare\n",
    "        y_pred_2 -> second forecast to compare\n",
    "        h -> forecast horizon\n",
    "        harvey_adj -> Harvey adjustment (leave as True)\n",
    "    \"\"\"\n",
    "\n",
    "    e1_lst = []\n",
    "    e2_lst = []\n",
    "    d_lst = []\n",
    "\n",
    "    y_test = y_test.tolist()\n",
    "    y_pred_1 = y_pred_1.tolist()\n",
    "    y_pred_2 = y_pred_2.tolist()\n",
    "\n",
    "    # Length of forecasts\n",
    "    T = float(len(y_test))\n",
    "\n",
    "    # Construct loss differential according to error criterion (MSE)\n",
    "    for real, p1, p2 in zip(y_test, y_pred_1, y_pred_2):\n",
    "        e1_lst.append((real - p1)**2)\n",
    "        e2_lst.append((real - p2)**2)\n",
    "    for e1, e2 in zip(e1_lst, e2_lst):\n",
    "        d_lst.append(e1 - e2)\n",
    "\n",
    "    # Mean of loss differential\n",
    "    mean_d = pd.Series(d_lst).mean()\n",
    "\n",
    "    # Calculate autocovariance \n",
    "    def autocovariance(Xi, N, k, Xs):\n",
    "        autoCov = 0\n",
    "        T = float(N)\n",
    "        for i in np.arange(0, N-k):\n",
    "            autoCov += ((Xi[i+k])-Xs)*(Xi[i]-Xs)\n",
    "        return (1/(T))*autoCov\n",
    "    \n",
    "    # Calculate the denominator of DM stat\n",
    "    gamma = []\n",
    "    for lag in range(0, h):\n",
    "        gamma.append(autocovariance(d_lst, len(d_lst), lag, mean_d))  # 0, 1, 2\n",
    "    V_d = (gamma[0] + 2*sum(gamma[1:]))/T\n",
    "    \n",
    "    # Calculate DM stat\n",
    "    DM_stat = V_d**(-0.5)*mean_d\n",
    "\n",
    "    # Calculate and apply Harvey adjustement\n",
    "    # It applies a correction for small sample\n",
    "    if harvey_adj is True:\n",
    "        harvey_adj = ((T+1-2*h+h*(h-1)/T)/T)**(0.5)\n",
    "        DM_stat = harvey_adj*DM_stat \n",
    "\n",
    "    # Calculate p-value\n",
    "    p_value = 2*t.cdf(-abs(DM_stat), df=T - 1)\n",
    "\n",
    "    print(f\"DM Statistic: {DM_stat :.4f} | p-value: {p_value :.4f}\")"
   ]
  },
  {
   "cell_type": "code",
   "execution_count": 5,
   "metadata": {},
   "outputs": [
    {
     "name": "stdout",
     "output_type": "stream",
     "text": [
      "Between linear and mlp:\n",
      "DM Statistic: 10.8670 | p-value: 0.0000\n",
      "\n",
      "Between linear and huber:\n",
      "DM Statistic: -1.8396 | p-value: 0.0658\n",
      "\n",
      "Between linear and forest\n",
      "DM Statistic: -10.1277 | p-value: 0.0000\n",
      "\n",
      "Between linear and svr:\n",
      "DM Statistic: -1.6376 | p-value: 0.1015\n"
     ]
    }
   ],
   "source": [
    "ensemble = pd.read_pickle(\"ensemble.pkl\")\n",
    "\n",
    "# Run test:\n",
    "print(\"Between linear and mlp:\")\n",
    "DM_test(ensemble.y_test, ensemble.linear, ensemble.mlp, h=30, harvey_adj=True)\n",
    "print(\"\\nBetween linear and huber:\")\n",
    "DM_test(ensemble.y_test, ensemble.linear, ensemble.huber, h=30, harvey_adj=True)\n",
    "print(\"\\nBetween linear and forest\")\n",
    "DM_test(ensemble.y_test, ensemble.linear, ensemble.forest, h=30, harvey_adj=True)\n",
    "print(\"\\nBetween linear and svr:\")\n",
    "DM_test(ensemble.y_test, ensemble.linear, ensemble.svr, h=30, harvey_adj=True)"
   ]
  },
  {
   "cell_type": "code",
   "execution_count": 11,
   "metadata": {},
   "outputs": [
    {
     "name": "stdout",
     "output_type": "stream",
     "text": [
      "MODEL: LinearRegression\n",
      "Time configuration: 91 splits, 4 testing days, 20 training weeks. Total predicted time: 364 days.\n",
      "\n"
     ]
    },
    {
     "name": "stderr",
     "output_type": "stream",
     "text": [
      "100%|██████████| 91/91 [00:30<00:00,  2.95it/s]\n"
     ]
    },
    {
     "name": "stdout",
     "output_type": "stream",
     "text": [
      "\n",
      "Train set average error:\n",
      "MAE: 107.14MW | RMSE: 142.50MW\n",
      "Test set average error:\n",
      "MAE: 109.96MW | RMSE: 146.13MW | MASE: 0.7335 | P90 Error: 232.73MW | Max Error: 1106.8 (2022-09-06 21:15:00+02:00)\n",
      "Time elapsed: 31.02s | Time per split: ~0.34s\n",
      "\n"
     ]
    }
   ],
   "source": [
    "# Recover legacy model results:\n",
    "MINUTE = \"all\"\n",
    "\n",
    "qh_parameters = {\n",
    "    \"system_imbalance_cum15\": {\n",
    "        \"lags\": [1]},\n",
    "    \"si_mw\": {\n",
    "        \"lags\": [-1, -2, -3, -4]},\n",
    "    \"load_id_mw\": {\n",
    "        \"lags\": [3, 2, 1, 0, -1, -2, -3, -4]},\n",
    "    \"nrv_rt\": {\n",
    "        \"lags\": [-1, -2, -3, -4]},\n",
    "}\n",
    "\n",
    "minute_parameters = {\n",
    "    \"system_imbalance\": {\n",
    "        \"lags\": [0, -1, -2, -3]},\n",
    "    \"net_regulation_volume\": {\n",
    "        \"lags\": [0, -1, -2, -3]},\n",
    "}\n",
    "\n",
    "# Prepare training dataframe:d\n",
    "df = join_qh_min_data(\n",
    "    qh_data=qh,\n",
    "    minute_data=minute,\n",
    "    qh_parameters=qh_parameters,\n",
    "    minute_parameters=minute_parameters,\n",
    "    minute=MINUTE,\n",
    ")\n",
    "TARGET = \"system_imbalance_cum15_from_qh_plus_1\"\n",
    "FEATURES = [feature for feature in df.columns if feature != TARGET]\n",
    "\n",
    "df = df.dropna()\n",
    "\n",
    "# Set up splits and model features:\n",
    "tscv = TimeSeriesSplit(n_splits=52 * 7 // 4, max_train_size=15 * 4 * 24 * 7 * 20, test_size=15 * 4 * 24 * 4, gap=0)\n",
    "\n",
    "# Cross-validation:\n",
    "results_linear = backtesting_CV(model=LinearRegression(),\n",
    "                                data=df,\n",
    "                                time_splits=tscv,\n",
    "                                features=FEATURES,\n",
    "                                target=TARGET,\n",
    "                                progress_bar=True,\n",
    "                                verbose=False\n",
    "                                )"
   ]
  },
  {
   "cell_type": "code",
   "execution_count": 26,
   "metadata": {},
   "outputs": [
    {
     "name": "stdout",
     "output_type": "stream",
     "text": [
      "\n",
      "Between legacy linear and linear:\n",
      "DM Statistic: 34.7721 | p-value: 0.0000\n"
     ]
    }
   ],
   "source": [
    "index_intersection = results_linear[0].index.min(), ensemble.index.max()\n",
    "\n",
    "ensemble = ensemble.loc[index_intersection[0] : index_intersection[1]]\n",
    "results_linear[0] = results_linear[0].loc[index_intersection[0] : index_intersection[1]]\n",
    "\n",
    "print(\"\\nBetween legacy linear and linear:\")\n",
    "DM_test(ensemble.y_test, results_linear[0].y_pred, ensemble.linear, h=30, harvey_adj=True)"
   ]
  }
 ],
 "metadata": {
  "kernelspec": {
   "display_name": "Python 3",
   "language": "python",
   "name": "python3"
  },
  "language_info": {
   "codemirror_mode": {
    "name": "ipython",
    "version": 3
   },
   "file_extension": ".py",
   "mimetype": "text/x-python",
   "name": "python",
   "nbconvert_exporter": "python",
   "pygments_lexer": "ipython3",
   "version": "3.10.12"
  },
  "orig_nbformat": 4
 },
 "nbformat": 4,
 "nbformat_minor": 2
}
